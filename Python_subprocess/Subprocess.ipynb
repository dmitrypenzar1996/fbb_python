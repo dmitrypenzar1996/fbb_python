{
 "cells": [
  {
   "cell_type": "markdown",
   "metadata": {},
   "source": [
    "# Subprocess"
   ]
  },
  {
   "cell_type": "markdown",
   "metadata": {},
   "source": [
    "Иногда нам необходимо вызвать какую-то внешнюю программу и использовать результат ее выполнения"
   ]
  },
  {
   "cell_type": "code",
   "execution_count": 51,
   "metadata": {},
   "outputs": [],
   "source": [
    "import subprocess"
   ]
  },
  {
   "cell_type": "markdown",
   "metadata": {},
   "source": [
    "## Просто запустить"
   ]
  },
  {
   "cell_type": "markdown",
   "metadata": {},
   "source": [
    "Просто запустить программу (почти никогда нам не нужно просто запустить программу, но..)"
   ]
  },
  {
   "cell_type": "code",
   "execution_count": 52,
   "metadata": {},
   "outputs": [
    {
     "data": {
      "text/plain": [
       "0"
      ]
     },
     "execution_count": 52,
     "metadata": {},
     "output_type": "execute_result"
    }
   ],
   "source": [
    "subprocess.call([\"./gen_svg\", \"out.svg\"])"
   ]
  },
  {
   "cell_type": "markdown",
   "metadata": {},
   "source": [
    "Что возвращает нам программа? "
   ]
  },
  {
   "cell_type": "code",
   "execution_count": 55,
   "metadata": {},
   "outputs": [],
   "source": [
    "retcod = subprocess.call([\"./gen_svg\", \"out.svg\"])"
   ]
  },
  {
   "cell_type": "code",
   "execution_count": 58,
   "metadata": {},
   "outputs": [
    {
     "name": "stderr",
     "output_type": "stream",
     "text": [
      "Error\n"
     ]
    }
   ],
   "source": [
    "import sys\n",
    "\n",
    "retcod = subprocess.call([\"./gen_svg\"])\n",
    "if retcod != 0:\n",
    "    print(\"Error\", file=sys.stderr)"
   ]
  },
  {
   "cell_type": "markdown",
   "metadata": {},
   "source": [
    "## Ругаться на ошибку"
   ]
  },
  {
   "cell_type": "code",
   "execution_count": 215,
   "metadata": {},
   "outputs": [
    {
     "data": {
      "text/plain": [
       "0"
      ]
     },
     "execution_count": 215,
     "metadata": {},
     "output_type": "execute_result"
    }
   ],
   "source": [
    "subprocess.check_call([\"./gen_svg\", \"out.svg\"])"
   ]
  },
  {
   "cell_type": "code",
   "execution_count": 216,
   "metadata": {},
   "outputs": [
    {
     "ename": "CalledProcessError",
     "evalue": "Command '['./gen_svg']' returned non-zero exit status 1.",
     "output_type": "error",
     "traceback": [
      "\u001b[0;31m---------------------------------------------------------------------------\u001b[0m",
      "\u001b[0;31mCalledProcessError\u001b[0m                        Traceback (most recent call last)",
      "\u001b[0;32m<ipython-input-216-fc4a6d22d950>\u001b[0m in \u001b[0;36m<module>\u001b[0;34m\u001b[0m\n\u001b[0;32m----> 1\u001b[0;31m \u001b[0msubprocess\u001b[0m\u001b[0;34m.\u001b[0m\u001b[0mcheck_call\u001b[0m\u001b[0;34m(\u001b[0m\u001b[0;34m[\u001b[0m\u001b[0;34m\"./gen_svg\"\u001b[0m\u001b[0;34m]\u001b[0m\u001b[0;34m)\u001b[0m\u001b[0;34m\u001b[0m\u001b[0;34m\u001b[0m\u001b[0m\n\u001b[0m",
      "\u001b[0;32m~/miniconda3/lib/python3.7/subprocess.py\u001b[0m in \u001b[0;36mcheck_call\u001b[0;34m(*popenargs, **kwargs)\u001b[0m\n\u001b[1;32m    345\u001b[0m         \u001b[0;32mif\u001b[0m \u001b[0mcmd\u001b[0m \u001b[0;32mis\u001b[0m \u001b[0;32mNone\u001b[0m\u001b[0;34m:\u001b[0m\u001b[0;34m\u001b[0m\u001b[0;34m\u001b[0m\u001b[0m\n\u001b[1;32m    346\u001b[0m             \u001b[0mcmd\u001b[0m \u001b[0;34m=\u001b[0m \u001b[0mpopenargs\u001b[0m\u001b[0;34m[\u001b[0m\u001b[0;36m0\u001b[0m\u001b[0;34m]\u001b[0m\u001b[0;34m\u001b[0m\u001b[0;34m\u001b[0m\u001b[0m\n\u001b[0;32m--> 347\u001b[0;31m         \u001b[0;32mraise\u001b[0m \u001b[0mCalledProcessError\u001b[0m\u001b[0;34m(\u001b[0m\u001b[0mretcode\u001b[0m\u001b[0;34m,\u001b[0m \u001b[0mcmd\u001b[0m\u001b[0;34m)\u001b[0m\u001b[0;34m\u001b[0m\u001b[0;34m\u001b[0m\u001b[0m\n\u001b[0m\u001b[1;32m    348\u001b[0m     \u001b[0;32mreturn\u001b[0m \u001b[0;36m0\u001b[0m\u001b[0;34m\u001b[0m\u001b[0;34m\u001b[0m\u001b[0m\n\u001b[1;32m    349\u001b[0m \u001b[0;34m\u001b[0m\u001b[0m\n",
      "\u001b[0;31mCalledProcessError\u001b[0m: Command '['./gen_svg']' returned non-zero exit status 1."
     ]
    }
   ],
   "source": [
    "subprocess.check_call([\"./gen_svg\"])"
   ]
  },
  {
   "cell_type": "markdown",
   "metadata": {},
   "source": [
    "### Shlex\n",
    "\n",
    "Мы привыкли набирать команду в виде строки - тут же надо с списком мучатся. Можно облегчить себе жизнь"
   ]
  },
  {
   "cell_type": "code",
   "execution_count": 74,
   "metadata": {},
   "outputs": [
    {
     "data": {
      "text/plain": [
       "['./gen_svg', 'out.svg']"
      ]
     },
     "execution_count": 74,
     "metadata": {},
     "output_type": "execute_result"
    }
   ],
   "source": [
    "import shlex\n",
    "cmd = \"./gen_svg out.svg\"\n",
    "shlex.split(cmd)"
   ]
  },
  {
   "cell_type": "markdown",
   "metadata": {},
   "source": [
    "ВАЖНО использовать именно shlex. Обычный split может обработать некоторые ситуации неверно, например:"
   ]
  },
  {
   "cell_type": "code",
   "execution_count": 76,
   "metadata": {},
   "outputs": [
    {
     "name": "stdout",
     "output_type": "stream",
     "text": [
      "shlex output: ['./gen_svg', 'out (1).svg']\n",
      "python split output: ['./gen_svg', \"'out\", \"(1).svg'\"]\n"
     ]
    }
   ],
   "source": [
    "import shlex\n",
    "cmd = \"./gen_svg 'out (1).svg'\"\n",
    "print(\"shlex output:\", shlex.split(cmd))\n",
    "print(\"python split output:\", cmd.split())"
   ]
  },
  {
   "cell_type": "code",
   "execution_count": 79,
   "metadata": {},
   "outputs": [
    {
     "data": {
      "text/plain": [
       "0"
      ]
     },
     "execution_count": 79,
     "metadata": {},
     "output_type": "execute_result"
    }
   ],
   "source": [
    "cmd = \"./gen_svg 'out.svg'\"\n",
    "subprocess.check_call(shlex.split(cmd))"
   ]
  },
  {
   "cell_type": "markdown",
   "metadata": {},
   "source": [
    "## Вывод программы \n",
    "Получить вывод программы"
   ]
  },
  {
   "cell_type": "code",
   "execution_count": 95,
   "metadata": {},
   "outputs": [
    {
     "data": {
      "text/plain": [
       "b\"\\n\\n\\nWELCOME TO TREE-PUZZLE 5.3.rc16!\\n\\n\\n\\nargv[1] = '--version'\\n\""
      ]
     },
     "execution_count": 95,
     "metadata": {},
     "output_type": "execute_result"
    }
   ],
   "source": [
    "cmd = \"puzzle --version\"\n",
    "output = subprocess.check_output(shlex.split(cmd))\n",
    "output"
   ]
  },
  {
   "cell_type": "markdown",
   "metadata": {},
   "source": [
    "Что значит b перед строкой?"
   ]
  },
  {
   "cell_type": "markdown",
   "metadata": {},
   "source": [
    "Python не знает, в какой кодировке будет писать ответ вызываемой программы. Если уверены, что кодировка - utf8, то просто пишите:"
   ]
  },
  {
   "cell_type": "code",
   "execution_count": 93,
   "metadata": {},
   "outputs": [
    {
     "data": {
      "text/plain": [
       "\"\\n\\n\\nWELCOME TO TREE-PUZZLE 5.3.rc16!\\n\\n\\n\\nargv[1] = '--version'\\n\""
      ]
     },
     "execution_count": 93,
     "metadata": {},
     "output_type": "execute_result"
    }
   ],
   "source": [
    "output.decode() # same - output.decode(encoding='utf8')"
   ]
  },
  {
   "cell_type": "markdown",
   "metadata": {},
   "source": [
    "Иначе надо задать decode другую кодировку"
   ]
  },
  {
   "cell_type": "markdown",
   "metadata": {},
   "source": [
    "## Popen"
   ]
  },
  {
   "cell_type": "markdown",
   "metadata": {},
   "source": [
    "В целом использовать описанные выше команды из subprocess можно, но обычно этого избегают, а используют более гибкий subprocess.Popen"
   ]
  },
  {
   "cell_type": "code",
   "execution_count": 217,
   "metadata": {},
   "outputs": [],
   "source": [
    "?subprocess.Popen"
   ]
  },
  {
   "cell_type": "markdown",
   "metadata": {},
   "source": [
    "Просто запустить процесс"
   ]
  },
  {
   "cell_type": "code",
   "execution_count": 98,
   "metadata": {},
   "outputs": [
    {
     "data": {
      "text/plain": [
       "0"
      ]
     },
     "execution_count": 98,
     "metadata": {},
     "output_type": "execute_result"
    }
   ],
   "source": [
    "cmd = \"./gen_svg out.svg\"\n",
    "process = subprocess.Popen(shlex.split(cmd))\n",
    "process.wait()"
   ]
  },
  {
   "cell_type": "markdown",
   "metadata": {},
   "source": [
    "Хотим output"
   ]
  },
  {
   "cell_type": "code",
   "execution_count": 102,
   "metadata": {},
   "outputs": [
    {
     "data": {
      "text/plain": [
       "b\"\\n\\n\\nWELCOME TO TREE-PUZZLE 5.3.rc16!\\n\\n\\n\\nargv[1] = '--version'\\n\""
      ]
     },
     "execution_count": 102,
     "metadata": {},
     "output_type": "execute_result"
    }
   ],
   "source": [
    "cmd = \"puzzle --version\"\n",
    "process = subprocess.Popen(shlex.split(cmd), \n",
    "                           stdout=subprocess.PIPE # указываем, что мы хотим ловить output\n",
    "                          )\n",
    "process.wait()\n",
    "process.stdout.read()"
   ]
  },
  {
   "cell_type": "markdown",
   "metadata": {},
   "source": [
    "Так проще:"
   ]
  },
  {
   "cell_type": "code",
   "execution_count": 136,
   "metadata": {},
   "outputs": [
    {
     "data": {
      "text/plain": [
       "b\"\\n\\n\\nWELCOME TO TREE-PUZZLE 5.3.rc16!\\n\\n\\n\\nargv[1] = '--version'\\n\""
      ]
     },
     "execution_count": 136,
     "metadata": {},
     "output_type": "execute_result"
    }
   ],
   "source": [
    "cmd = \"puzzle --version\"\n",
    "process = subprocess.Popen(shlex.split(cmd), \n",
    "                           stdout=subprocess.PIPE # указываем, что мы хотим ловить stdout\n",
    "                          )\n",
    "\n",
    "stdout, _ = process.communicate()\n",
    "stdout"
   ]
  },
  {
   "cell_type": "markdown",
   "metadata": {},
   "source": [
    "А еще можно прямо указать, что мы ожидаем текст, а не бинарный вывод"
   ]
  },
  {
   "cell_type": "code",
   "execution_count": 137,
   "metadata": {},
   "outputs": [
    {
     "data": {
      "text/plain": [
       "\"\\n\\n\\nWELCOME TO TREE-PUZZLE 5.3.rc16!\\n\\n\\n\\nargv[1] = '--version'\\n\""
      ]
     },
     "execution_count": 137,
     "metadata": {},
     "output_type": "execute_result"
    }
   ],
   "source": [
    "cmd = \"puzzle --version\"\n",
    "process = subprocess.Popen(shlex.split(cmd), \n",
    "                           stdout=subprocess.PIPE, # указываем, что мы хотим ловить stdout\n",
    "                           text=True\n",
    "                          )\n",
    "\n",
    "stdout, _ = process.communicate()\n",
    "stdout"
   ]
  },
  {
   "cell_type": "code",
   "execution_count": 138,
   "metadata": {},
   "outputs": [
    {
     "data": {
      "text/plain": [
       "\"\\n\\n\\nWELCOME TO TREE-PUZZLE 5.3.rc16!\\n\\n\\n\\nargv[1] = '--version'\\n\""
      ]
     },
     "execution_count": 138,
     "metadata": {},
     "output_type": "execute_result"
    }
   ],
   "source": [
    "cmd = \"puzzle --version\"\n",
    "process = subprocess.Popen(shlex.split(cmd), \n",
    "                           stdout=subprocess.PIPE, # указываем, что мы хотим ловить stdout\n",
    "                           encoding='utf8',\n",
    "                           text=True\n",
    "                          )\n",
    "\n",
    "stdout, _ = process.communicate()\n",
    "stdout"
   ]
  },
  {
   "cell_type": "markdown",
   "metadata": {},
   "source": [
    "Хотим ловить информацию из потока ошибок"
   ]
  },
  {
   "cell_type": "code",
   "execution_count": 107,
   "metadata": {},
   "outputs": [
    {
     "data": {
      "text/plain": [
       "(b\"\\n\\n\\nWELCOME TO TREE-PUZZLE 5.3.rc16!\\n\\n\\n\\nargv[1] = '--version'\\n\",\n",
       " b'puzzle (tree-puzzle) 5.3.rc16\\n')"
      ]
     },
     "execution_count": 107,
     "metadata": {},
     "output_type": "execute_result"
    }
   ],
   "source": [
    "cmd = \"puzzle --version\"\n",
    "process = subprocess.Popen(shlex.split(cmd), \n",
    "                           stdout=subprocess.PIPE, # указываем, что мы хотим ловить stdout\n",
    "                           stderr=subprocess.PIPE  # указываем, что мы хотим ловить stderr\n",
    "                          )\n",
    "\n",
    "stdout, stderr = process.communicate()\n",
    "stdout, stderr # оказывается, программа на stderr печатает свою версию в более простом формате\n",
    "# в stderr могут содержаться важные сообщения типа warning (что не нашлось какого-то файла, потому результат неточен и тд)"
   ]
  },
  {
   "cell_type": "markdown",
   "metadata": {},
   "source": [
    "Некоторые программы пишут в stdout и stderr вразнобой - довольно важная информация, которую можно определить только из контекста, бьется на куски не совсем предсказуемым образом. В этом случае можно сказать Popen писать stderr в то же место, что и stdout"
   ]
  },
  {
   "cell_type": "code",
   "execution_count": 117,
   "metadata": {},
   "outputs": [
    {
     "name": "stdout",
     "output_type": "stream",
     "text": [
      "puzzle (tree-puzzle) 5.3.rc16\n",
      "\n",
      "\n",
      "\n",
      "WELCOME TO TREE-PUZZLE 5.3.rc16!\n",
      "\n",
      "\n",
      "\n",
      "argv[1] = '--version'\n",
      "\n"
     ]
    }
   ],
   "source": [
    "cmd = \"puzzle --version\" \n",
    "process = subprocess.Popen(shlex.split(cmd), \n",
    "                           stdout=subprocess.PIPE, # указываем, что мы хотим ловить stdout\n",
    "                           stderr=subprocess.STDOUT  # перенаправить stderr в stdout\n",
    "                          )\n",
    "\n",
    "stdout, _ = process.communicate()\n",
    "print(stdout.decode())"
   ]
  },
  {
   "cell_type": "markdown",
   "metadata": {},
   "source": [
    "Можно записывать выдачу программ в отдельный открытый на запись файл"
   ]
  },
  {
   "cell_type": "code",
   "execution_count": 122,
   "metadata": {},
   "outputs": [
    {
     "name": "stdout",
     "output_type": "stream",
     "text": [
      "\n",
      "\n",
      "\n",
      "WELCOME TO TREE-PUZZLE 5.3.rc16!\n",
      "\n",
      "\n",
      "\n",
      "argv[1] = '--version'\n",
      "puzzle (tree-puzzle) 5.3.rc16\n"
     ]
    }
   ],
   "source": [
    "with open(\"out.log\", 'w') as stdout,\\\n",
    "    open(\"err.log\", 'w') as stderr:\n",
    "    cmd = \"puzzle --version\"\n",
    "    process = subprocess.Popen(shlex.split(cmd), \n",
    "                           stdout=stdout, # указываем, что мы хотим ловить stdout\n",
    "                           stderr=stderr  # перенаправить stderr в stdout\n",
    "                          )\n",
    "\n",
    "process.communicate()\n",
    "!cat out.log\n",
    "!cat err.log"
   ]
  },
  {
   "cell_type": "code",
   "execution_count": 124,
   "metadata": {},
   "outputs": [
    {
     "name": "stdout",
     "output_type": "stream",
     "text": [
      "puzzle (tree-puzzle) 5.3.rc16\r\n",
      "\r\n",
      "\r\n",
      "\r\n",
      "WELCOME TO TREE-PUZZLE 5.3.rc16!\r\n",
      "\r\n",
      "\r\n",
      "\r\n",
      "argv[1] = '--version'\r\n"
     ]
    }
   ],
   "source": [
    "with open(\"out.log\", 'w') as stdout:\n",
    "    cmd = \"puzzle --version\"\n",
    "    process = subprocess.Popen(shlex.split(cmd), \n",
    "                           stdout=stdout, # указываем, что мы хотим ловить stdout\n",
    "                           stderr=subprocess.STDOUT # перенаправить stderr в stdout\n",
    "                          )\n",
    "\n",
    "process.communicate()\n",
    "!cat out.log"
   ]
  },
  {
   "cell_type": "markdown",
   "metadata": {},
   "source": [
    "## Как запустить скрипт на Python? "
   ]
  },
  {
   "cell_type": "code",
   "execution_count": 148,
   "metadata": {},
   "outputs": [
    {
     "name": "stdout",
     "output_type": "stream",
     "text": [
      "import sys\r\n",
      "\r\n",
      "with open(sys.argv[1]) as inp:\r\n",
      "    a = inp.readline()\r\n",
      "    b = inp.readline()\r\n",
      "print(int(a) + int(b))\r\n"
     ]
    }
   ],
   "source": [
    "!cat solution_f.py"
   ]
  },
  {
   "cell_type": "code",
   "execution_count": 218,
   "metadata": {},
   "outputs": [
    {
     "name": "stdout",
     "output_type": "stream",
     "text": [
      "('3\\n', None)\n"
     ]
    }
   ],
   "source": [
    "cmd = \"python solution_f.py tests/1.txt\"\n",
    "process = subprocess.Popen(shlex.split(cmd), \n",
    "                           stdout=subprocess.PIPE, # указываем, что мы хотим ловить stdout\n",
    "                           stderr=subprocess.STDOUT, # перенаправить stderr в stdout\n",
    "                           text=True\n",
    "                          )\n",
    "print(process.communicate())"
   ]
  },
  {
   "cell_type": "markdown",
   "metadata": {},
   "source": [
    "## Как запустить программу, ожидающую чего-то на stdin"
   ]
  },
  {
   "cell_type": "code",
   "execution_count": 146,
   "metadata": {},
   "outputs": [
    {
     "name": "stdout",
     "output_type": "stream",
     "text": [
      "a = input()\r\n",
      "b = input()\r\n",
      "print(int(a) + int(b))\r\n"
     ]
    }
   ],
   "source": [
    "!cat solution.py"
   ]
  },
  {
   "cell_type": "code",
   "execution_count": 219,
   "metadata": {},
   "outputs": [
    {
     "name": "stdout",
     "output_type": "stream",
     "text": [
      "1\r\n",
      "2\r\n"
     ]
    }
   ],
   "source": [
    "!cat 'tests/1.txt'"
   ]
  },
  {
   "cell_type": "code",
   "execution_count": 220,
   "metadata": {},
   "outputs": [
    {
     "name": "stdout",
     "output_type": "stream",
     "text": [
      "('3\\n', None)\n"
     ]
    }
   ],
   "source": [
    "with open('tests/1.txt') as stdin:\n",
    "    cmd = \"python solution.py\"\n",
    "    process = subprocess.Popen(shlex.split(cmd),\n",
    "                           stdin=stdin, \n",
    "                           stdout=subprocess.PIPE, # указываем, что мы хотим ловить stdout\n",
    "                           stderr=subprocess.STDOUT, # перенаправить stderr в stdout\n",
    "                           text=True\n",
    "                          )\n",
    "print(process.communicate())"
   ]
  },
  {
   "cell_type": "markdown",
   "metadata": {},
   "source": [
    "## Как запустить программу, которая ожидает строго определенный набор файлов с жестко заданными именами и путями к ним (например, они должны находиться в папке с ней)"
   ]
  },
  {
   "cell_type": "markdown",
   "metadata": {},
   "source": [
    "На самом деле - таких программ море, тот же PHYLIP для филогении"
   ]
  },
  {
   "cell_type": "code",
   "execution_count": 223,
   "metadata": {},
   "outputs": [
    {
     "name": "stdout",
     "output_type": "stream",
     "text": [
      "import sys\r\n",
      "\r\n",
      "with open(\"in.txt\") as inp:\r\n",
      "    a = inp.readline()\r\n",
      "    b = inp.readline()\r\n",
      "print(int(a) + int(b))\r\n"
     ]
    }
   ],
   "source": [
    "!cat solution_i.py"
   ]
  },
  {
   "cell_type": "code",
   "execution_count": 224,
   "metadata": {},
   "outputs": [
    {
     "name": "stdout",
     "output_type": "stream",
     "text": [
      "1\r\n",
      "2\r\n"
     ]
    }
   ],
   "source": [
    "!cat 'tests/1.txt'"
   ]
  },
  {
   "cell_type": "code",
   "execution_count": null,
   "metadata": {},
   "outputs": [],
   "source": [
    "import os\n",
    "import shutil\n",
    "\n",
    "\n",
    "os.mkdir(\"run\")\n",
    "shutil.copy(\"solution_i.py\", \"run/solution_i.py\")\n",
    "shutil.copy(\"tests/1.txt\", \"run/in.txt\")\n"
   ]
  },
  {
   "cell_type": "code",
   "execution_count": 225,
   "metadata": {},
   "outputs": [
    {
     "name": "stdout",
     "output_type": "stream",
     "text": [
      "in.txt        solution_i.py\r\n"
     ]
    }
   ],
   "source": [
    "!ls run/"
   ]
  },
  {
   "cell_type": "code",
   "execution_count": 226,
   "metadata": {},
   "outputs": [
    {
     "name": "stdout",
     "output_type": "stream",
     "text": [
      "('3\\n', None)\n"
     ]
    }
   ],
   "source": [
    "cmd = \"python solution_i.py\"\n",
    "process = subprocess.Popen(shlex.split(cmd), \n",
    "                           stdout=subprocess.PIPE, # указываем, что мы хотим ловить stdout\n",
    "                           stderr=subprocess.STDOUT, # перенаправить stderr в stdout\n",
    "                           text=True,\n",
    "                           cwd='run' # перед запуском программы система переходит в эту папку. Все пути считаются относительно этой папки \n",
    "                          )\n",
    "print(process.communicate())"
   ]
  },
  {
   "cell_type": "markdown",
   "metadata": {},
   "source": [
    "Как запустить много процессов разом? "
   ]
  },
  {
   "cell_type": "code",
   "execution_count": 232,
   "metadata": {},
   "outputs": [],
   "source": [
    "import os\n",
    "import shutil"
   ]
  },
  {
   "cell_type": "code",
   "execution_count": 241,
   "metadata": {},
   "outputs": [
    {
     "name": "stdout",
     "output_type": "stream",
     "text": [
      "('3\\n', None)\n",
      "('3\\n', None)\n",
      "('3\\n', None)\n",
      "('3\\n', None)\n",
      "('3\\n', None)\n",
      "('3\\n', None)\n",
      "('3\\n', None)\n",
      "('3\\n', None)\n",
      "('3\\n', None)\n",
      "('3\\n', None)\n"
     ]
    }
   ],
   "source": [
    "procs = []\n",
    "for i in range(10):\n",
    "    cmd = \"python solution_i.py\"\n",
    "    \n",
    "    process = subprocess.Popen(shlex.split(cmd), \n",
    "                           stdout=subprocess.PIPE, # указываем, что мы хотим ловить stdout\n",
    "                           stderr=subprocess.STDOUT, # перенаправить stderr в stdout\n",
    "                           text=True,\n",
    "                           cwd='run' # перед запуском программы система переходит в эту папку. Все пути считаются относительно этой папки \n",
    "                          )\n",
    "    procs.append(process)\n",
    "\n",
    "for p in procs:\n",
    "    print(p.communicate())"
   ]
  },
  {
   "cell_type": "markdown",
   "metadata": {},
   "source": [
    "Если процессы работают в одной папке и не дай бог пишут одинаковые временные файлы или файлы результатов - то так запустить не получится.\n",
    "Надо для каждого процесса заводить свою временную папку и в ней работать. "
   ]
  },
  {
   "cell_type": "code",
   "execution_count": null,
   "metadata": {},
   "outputs": [],
   "source": [
    "import tempfile"
   ]
  },
  {
   "cell_type": "code",
   "execution_count": 243,
   "metadata": {},
   "outputs": [
    {
     "name": "stdout",
     "output_type": "stream",
     "text": [
      "3\n",
      "\n",
      "3\n",
      "\n",
      "3\n",
      "\n",
      "3\n",
      "\n",
      "3\n",
      "\n",
      "3\n",
      "\n",
      "3\n",
      "\n",
      "3\n",
      "\n",
      "3\n",
      "\n",
      "3\n",
      "\n"
     ]
    }
   ],
   "source": [
    "procs = []\n",
    "for i in range(10):\n",
    "    with tempfile.TemporaryDirectory() as tempdir:\n",
    "        \n",
    "        shutil.copy(\"solution_i.py\", os.path.join(tempdir, \"solution_i.py\"))\n",
    "        shutil.copy(\"tests/1.txt\", os.path.join(tempdir, \"in.txt\"))\n",
    "        cmd = \"python solution_i.py\"\n",
    "        p = subprocess.Popen(shlex.split(cmd), \n",
    "                               stdout=subprocess.PIPE, # указываем, что мы хотим ловить stdout\n",
    "                               stderr=subprocess.STDOUT, # перенаправить stderr в stdout\n",
    "                               text=True,\n",
    "                               cwd=tempdir # перед запуском программы система переходит в эту папку. Все пути считаются относительно этой папки \n",
    "                              )\n",
    "        p.wait()\n",
    "    procs.append(p)\n",
    "\n",
    "for p in procs:\n",
    "    print(p.stdout.read())"
   ]
  },
  {
   "cell_type": "markdown",
   "metadata": {},
   "source": [
    "При этом потеряли возможность удалять временные папки сразу"
   ]
  },
  {
   "cell_type": "markdown",
   "metadata": {},
   "source": [
    "Можно сделать вот так"
   ]
  },
  {
   "cell_type": "code",
   "execution_count": 257,
   "metadata": {},
   "outputs": [
    {
     "name": "stdout",
     "output_type": "stream",
     "text": [
      "3\n",
      "\n",
      "3\n",
      "\n",
      "3\n",
      "\n",
      "3\n",
      "\n",
      "3\n",
      "\n",
      "3\n",
      "\n",
      "3\n",
      "\n",
      "3\n",
      "\n",
      "3\n",
      "\n",
      "3\n",
      "\n"
     ]
    }
   ],
   "source": [
    "procs = []\n",
    "for i in range(10):\n",
    "    tempdir = tempfile.TemporaryDirectory() \n",
    "        \n",
    "    shutil.copy(\"solution_i.py\", os.path.join(tempdir.name, \"solution_i.py\"))\n",
    "    shutil.copy(\"tests/1.txt\", os.path.join(tempdir.name, \"in.txt\"))\n",
    "    cmd = \"python solution_i.py\"\n",
    "    p = subprocess.Popen(shlex.split(cmd), \n",
    "                               stdout=subprocess.PIPE, # указываем, что мы хотим ловить stdout\n",
    "                               stderr=subprocess.STDOUT, # перенаправить stderr в stdout\n",
    "                               text=True,\n",
    "                               cwd=tempdir.name# перед запуском программы система переходит в эту папку. Все пути считаются относительно этой папки \n",
    "                              )\n",
    "    procs.append((p, tempdir) )\n",
    "\n",
    "for p, td in procs:\n",
    "    p.wait()\n",
    "    print(p.stdout.read())\n",
    "    td.cleanup() # удаляем временную папку"
   ]
  },
  {
   "cell_type": "markdown",
   "metadata": {},
   "source": [
    "Но это временное и неудобное решение - with спасал нас от кучи возможных ошибок на случай, если мы забудем закрыть временную папку.\n",
    "В следующий раз мы разберем модуль **concurrent.futures**, который позволяет все сделать максимально удобно"
   ]
  }
 ],
 "metadata": {
  "kernelspec": {
   "display_name": "Python 3",
   "language": "python",
   "name": "python3"
  },
  "language_info": {
   "codemirror_mode": {
    "name": "ipython",
    "version": 3
   },
   "file_extension": ".py",
   "mimetype": "text/x-python",
   "name": "python",
   "nbconvert_exporter": "python",
   "pygments_lexer": "ipython3",
   "version": "3.8.3"
  }
 },
 "nbformat": 4,
 "nbformat_minor": 2
}
