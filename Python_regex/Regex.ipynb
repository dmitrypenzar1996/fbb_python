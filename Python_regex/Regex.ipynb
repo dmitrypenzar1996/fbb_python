{
 "cells": [
  {
   "cell_type": "markdown",
   "metadata": {},
   "source": [
    "При подготовке тетради обширно использовался материал https://habrahabr.ru/post/349860/"
   ]
  },
  {
   "cell_type": "code",
   "execution_count": 2,
   "metadata": {},
   "outputs": [],
   "source": [
    "import re"
   ]
  },
  {
   "cell_type": "markdown",
   "metadata": {},
   "source": [
    "![save_the_world](save_the_world.jpg)"
   ]
  },
  {
   "cell_type": "markdown",
   "metadata": {},
   "source": [
    "![regex_not](99_problems.jpg)"
   ]
  },
  {
   "cell_type": "markdown",
   "metadata": {},
   "source": [
    "Проверка правильность е-мэйла (не совсем корректная)"
   ]
  },
  {
   "cell_type": "code",
   "execution_count": 5,
   "metadata": {},
   "outputs": [
    {
     "data": {
      "text/plain": [
       "'(?:[a-z0-9!#$%&\\'*+/=?^_`{|}~-]+(?:\\\\.[a-z0-9!#$%&\\'*+/=?^_`{|}~-]+)*|\"(?:[\\x01-\\x08\\x0b\\x0c\\x0e-\\x1f!#-[]-\\x7f]|\\\\[\\x01-\\t\\x0b\\x0c\\x0e-\\x7f])*\")@(?:(?:[a-z0-9](?:[a-z0-9-]*[a-z0-9])?\\\\.)+[a-z0-9](?:[a-z0-9-]*[a-z0-9])?|\\\\[(?:(?:25[0-5]|\\n2[0-4][0-9]|[01]?[0-9][0-9]?)\\\\.){3}(?:25[0-5]|2[0-4][0-9]|[01]?[0-9][0-9]?|[a-z0-9-]*[a-z0-9]:(?:[\\x01-\\x08\\x0b\\x0c\\x0e-\\x1f!-ZS-\\x7f]|\\\\[\\x01-\\t\\x0b\\x0c\\x0e-\\x7f])+)\\\\])'"
      ]
     },
     "execution_count": 5,
     "metadata": {},
     "output_type": "execute_result"
    }
   ],
   "source": [
    "'''(?:[a-z0-9!#$%&'*+/=?^_`{|}~-]+(?:\\.[a-z0-9!#$%&'*+/=?^_`{|}~-]+)*|\"(?:[\\x01-\\x08\\x0b\\x0c\\x0e-\\x1f\\x21\\x23-\\x5b\\x5d-\\x7f]|\\\\[\\x01-\\x09\\x0b\\x0c\\x0e-\\x7f])*\")@(?:(?:[a-z0-9](?:[a-z0-9-]*[a-z0-9])?\\.)+[a-z0-9](?:[a-z0-9-]*[a-z0-9])?|\\[(?:(?:25[0-5]|\n",
    "2[0-4][0-9]|[01]?[0-9][0-9]?)\\.){3}(?:25[0-5]|2[0-4][0-9]|[01]?[0-9][0-9]?|[a-z0-9-]*[a-z0-9]:(?:[\\x01-\\x08\\x0b\\x0c\\x0e-\\x1f\\x21-\\x5a\\x53-\\x7f]|\\\\[\\x01-\\x09\\x0b\\x0c\\x0e-\\x7f])+)\\])'''"
   ]
  },
  {
   "cell_type": "markdown",
   "metadata": {},
   "source": [
    "Самая корректная вот [здесь](http://www.ex-parrot.com/~pdw/Mail-RFC822-Address.html)"
   ]
  },
  {
   "cell_type": "markdown",
   "metadata": {},
   "source": [
    "**Регулярное выражение** — это строка, задающая шаблон поиска подстрок в тексте. Одному шаблону может соответствовать много разных строчек. На русский язык правильнее бы перевести \"шаблонные выражения\""
   ]
  },
  {
   "cell_type": "markdown",
   "metadata": {},
   "source": [
    "Любая строка уже является регулярным выражением (так как задает в худшем случае только саму себя)"
   ]
  },
  {
   "cell_type": "markdown",
   "metadata": {},
   "source": [
    "**Python и регулярные выражения**"
   ]
  },
  {
   "cell_type": "markdown",
   "metadata": {},
   "source": [
    "![re_python_table](re_python_table.png)"
   ]
  },
  {
   "cell_type": "markdown",
   "metadata": {},
   "source": [
    "**Специальные символы**"
   ]
  },
  {
   "cell_type": "markdown",
   "metadata": {},
   "source": [
    "При этом есть набор спецсимволов, которые имеют специальное значение и если вы хотите их использовать самих, \n",
    "то нужно их экранировать с помощью \\.  К ним относятся ^$*+?{}[]\\|()"
   ]
  },
  {
   "cell_type": "markdown",
   "metadata": {},
   "source": [
    "**Шаблоны, соответствующие одному символу**"
   ]
  },
  {
   "cell_type": "markdown",
   "metadata": {},
   "source": [
    "**1.** \"A\", \"B\", \"c\", \"7\" - любой не спецсимвол соответствует самому себе\n",
    "\n",
    "**2.** \".\" - одна любая буква (по-умолчанию - кроме переноса строки)\n",
    "\n",
    "**3.** \"\\d\" - любая цифра, 1, 2, 1234\n",
    "\n",
    "**4.** \"\\s\" - любой whitespace character - пробел, знак табуляции (\\t) и тд\n",
    "\n",
    "**5.** \"\\S\" - любой непробельный символ\n",
    "\n",
    "**6.** \"\\w\" - Любая буква (то, что может быть частью слова), а также цифры и _\n",
    "\n",
    "**7.** \"\\W\" - Любая не-буква, не-цифра и не подчёркивание\n",
    "\n",
    "**8.** [ABCDE]  - Один из символов в скобках A, E, C\n",
    "\n",
    "**9.** [0-9], [A-E] - а также любой символ из диапазона a-b\n",
    "\n",
    "**10.** [^ABCDE], [^A-E] - любой символ, кроме перечисленных\n",
    "\n",
    "**11.** \\b - граница слова\n",
    "\n",
    "**12.** \\B - Не граница слова: либо и слева, и справа буквы,\n",
    "либо и слева, и справа НЕ буквы\n"
   ]
  },
  {
   "cell_type": "markdown",
   "metadata": {},
   "source": [
    "**Примеры**\n",
    "\n",
    "Регулярное выражение, соответствующее трем подряд идущим символам в начале строки"
   ]
  },
  {
   "cell_type": "code",
   "execution_count": 13,
   "metadata": {},
   "outputs": [
    {
     "name": "stdout",
     "output_type": "stream",
     "text": [
      "123\n",
      "123\n",
      "None\n"
     ]
    }
   ],
   "source": [
    "regular = r\"\\d\\d\\d\"\n",
    "pat = re.match(regular, \"123\")\n",
    "print (pat.group()) # \"123\"\n",
    "pat = re.match(regular, \"123 abcd\")\n",
    "print (pat.group()) # \"123\"\n",
    "pat = re.match(regular, \"abcd\")\n",
    "print (pat) # None"
   ]
  },
  {
   "cell_type": "markdown",
   "metadata": {},
   "source": [
    "Выражение, начинающееся с \"3'\" или \"5'\""
   ]
  },
  {
   "cell_type": "code",
   "execution_count": 18,
   "metadata": {},
   "outputs": [
    {
     "name": "stdout",
     "output_type": "stream",
     "text": [
      "3'\n",
      "None\n",
      "5'\n"
     ]
    }
   ],
   "source": [
    "regular = r\"[35]'\"\n",
    "pat = re.match(regular, \"3'-конец\")\n",
    "print (pat.group()) \n",
    "pat = re.match(regular, \"123 abcd\")\n",
    "print (pat) # \"None\n",
    "pat = re.match(regular, \"5'-конец\")\n",
    "print (pat.group()) "
   ]
  },
  {
   "cell_type": "markdown",
   "metadata": {},
   "source": [
    "**Квантификаторы (указание количества повторений паттерна)**"
   ]
  },
  {
   "cell_type": "markdown",
   "metadata": {},
   "source": [
    "**1.** {n} - ровно n повторений паттерна \"A{10}\" - десять букв A\n",
    "\n",
    "**2.** {n, m} - от n до m повторений паттерна - \"\\d{2,5}\" - от двух до 5 цифр\n",
    "\n",
    "**3.** {n, } - не менее n повторений паттерна - \"\\w{5, }\" - слово хотя бы из 5 букв \n",
    "\n",
    "**4.** {, m} - не более m повторений паттерна - \"\\w{,3}\" - слово с не более чем 3 буквами\n",
    "\n",
    "**5.** ? - ноль или одно вхождение паттерна - \"ha?emoglobin\" - соответствует и hemoglobin, и haemoglobin\n",
    "\n",
    "**6.** * - любое количество вхождений (в том числе и ноль) - \"ATGUAAA*\" - предполагаем, что в конце последовательности гена могло быть \"заикание\"\n",
    "\n",
    "**7.** + - хотя бы одно вхождение (и более) - \"\\d+\" - хотя бы одна цифра"
   ]
  },
  {
   "cell_type": "markdown",
   "metadata": {},
   "source": [
    "**Примеры**"
   ]
  },
  {
   "cell_type": "markdown",
   "metadata": {},
   "source": [
    "Хотим находить информацию о человеке только в форме имя-фамилия"
   ]
  },
  {
   "cell_type": "code",
   "execution_count": 38,
   "metadata": {},
   "outputs": [
    {
     "name": "stdout",
     "output_type": "stream",
     "text": [
      "Eugene Koonin\n",
      "Eugene Koonin\n",
      "None\n",
      "None\n"
     ]
    }
   ],
   "source": [
    "import re\n",
    "regular = r\"[A-Z][a-z]+ [A-Z][a-z]+\" \n",
    "pat = re.match(regular, \"Eugene Koonin\")\n",
    "print (pat.group()) # \"Eugene Koonin\"\n",
    "pat = re.match(regular, \"Eugene Koonin Viktorovich \")\n",
    "print (pat.group()) # \"Eugene Koonin\"\n",
    "pat = re.match(regular, \"Eugene\")\n",
    "print (pat) # None\n",
    "pat = re.match(regular, \"Eugene 89123456789\")\n",
    "print (pat) # None"
   ]
  },
  {
   "cell_type": "markdown",
   "metadata": {},
   "source": [
    "**Группы (базовое)**"
   ]
  },
  {
   "cell_type": "markdown",
   "metadata": {},
   "source": [
    "Чтобы иметь возможность применить квантификатор (просто удобно разделить части регулярного выражение) используются группирующие скобки (). Лучше всего их использовать в форме (?:регулярное_выражение) "
   ]
  },
  {
   "cell_type": "markdown",
   "metadata": {},
   "source": [
    "Хотим находить информацию о человеке только в форме имя-фамилия с, возможно, указанным отчеством"
   ]
  },
  {
   "cell_type": "code",
   "execution_count": 40,
   "metadata": {},
   "outputs": [
    {
     "name": "stdout",
     "output_type": "stream",
     "text": [
      "Eugene Koonin\n",
      "Eugene Koonin Viktorovich\n",
      "None\n",
      "None\n"
     ]
    }
   ],
   "source": [
    "import re\n",
    "regular = r\"[A-Z][a-z]+ [A-Z][a-z]+(?:\\s[A-Z][a-z]+)?\" \n",
    "pat = re.match(regular, \"Eugene Koonin\")\n",
    "print (pat.group()) # \"Eugene Koonin\"\n",
    "pat = re.match(regular, \"Eugene Koonin Viktorovich \")\n",
    "print (pat.group()) # \"Eugene Koonin\"\n",
    "pat = re.match(regular, \"Eugene\")\n",
    "print (pat) # None\n",
    "pat = re.match(regular, \"Eugene 89123456789\")\n",
    "print (pat) # None"
   ]
  },
  {
   "cell_type": "markdown",
   "metadata": {},
   "source": [
    "Кроме того, теперь мы можем добавлять **или** (\"|\")  в регулярное выражение"
   ]
  },
  {
   "cell_type": "code",
   "execution_count": 41,
   "metadata": {},
   "outputs": [
    {
     "name": "stdout",
     "output_type": "stream",
     "text": [
      "Онегин\n",
      "Печорин\n",
      "None\n"
     ]
    }
   ],
   "source": [
    "unnecessary_persons_re = regular = r\"(Онегин)|(Печорин)|(Чацкий)\" \n",
    "pat = re.match(regular, \"Онегин\")\n",
    "print (pat.group()) # \"Eugene Koonin\"\n",
    "pat = re.match(regular, \"Печорин\")\n",
    "print (pat.group()) # \"Eugene Koonin\"\n",
    "pat = re.match(regular, \"Болконский\")\n",
    "print (pat) # None"
   ]
  },
  {
   "cell_type": "markdown",
   "metadata": {},
   "source": [
    "**Жадность квантификаторов**\n",
    "\n",
    "По умолчанию квантификаторы жадные — \n",
    "захватывают максимально возможное число символов. \n",
    "Добавление ? делает их ленивыми, \n",
    "они захватывают минимально возможное число символов\n",
    "\n",
    "*? \n",
    "+? - этому будет соответствовать 7 в строке 7967\n"
   ]
  },
  {
   "cell_type": "code",
   "execution_count": 8,
   "metadata": {},
   "outputs": [
    {
     "name": "stdout",
     "output_type": "stream",
     "text": [
      "(a + b) * (c + d) * (e + f)(a + b) * (c + d) * (e + f)\n",
      "(a + b) * (c + d) * (e + f)(a + b)\n"
     ]
    }
   ],
   "source": [
    "import re\n",
    "regex_greedy = r\"\\(.*\\)\\(.*\\)\"\n",
    "regex_not_greedy = r\"\\(.*\\)\\(.*?\\)\"\n",
    "expr =\"(a + b) * (c + d) * (e + f)(a + b) * (c + d) * (e + f)\"\n",
    "print (re.match(regex_greedy, expr).group())\n",
    "print (re.match(regex_not_greedy, expr).group())\n"
   ]
  },
  {
   "cell_type": "markdown",
   "metadata": {},
   "source": [
    "Что же происходит в re, и что возвращается?"
   ]
  },
  {
   "cell_type": "markdown",
   "metadata": {},
   "source": [
    "**Match-объекты**"
   ]
  },
  {
   "cell_type": "markdown",
   "metadata": {},
   "source": [
    "Если функции re.search, re.fullmatch, re.match не находят соответствие шаблону в строке, то они возвращают None, функция re.finditer не выдаёт ничего. Однако если соответствие найдено, то возвращается match-объект. Эта штука содержит в себе кучу полезной информации о соответствии шаблону. \n",
    "\n",
    "Просто ищем слово"
   ]
  },
  {
   "cell_type": "code",
   "execution_count": 54,
   "metadata": {},
   "outputs": [
    {
     "name": "stdout",
     "output_type": "stream",
     "text": [
      "<_sre.SRE_Match object; span=(3, 7), match='What'>\n",
      "<_sre.SRE_Match object; span=(0, 4), match='What'>\n",
      "None\n"
     ]
    }
   ],
   "source": [
    "word_regex = r'\\w+'\n",
    "match = re.search(word_regex, '%$ What?? asdd')\n",
    "print (match)\n",
    "match = re.search(word_regex, 'What?? asdd')\n",
    "print (match)\n",
    "match = re.search(word_regex, '    ')\n",
    "print (match)"
   ]
  },
  {
   "cell_type": "code",
   "execution_count": 59,
   "metadata": {},
   "outputs": [
    {
     "name": "stdout",
     "output_type": "stream",
     "text": [
      "Start 3\n",
      "End 7\n",
      "Entry: What\n",
      "Entry: What\n",
      "Entry: What\n"
     ]
    }
   ],
   "source": [
    "match = re.search(word_regex, '%$ What?? asdd')\n",
    "print (\"Start\", match.start())\n",
    "print (\"End\", match.end())\n",
    "print (\"Entry:\", match.group())\n",
    "print (\"Entry:\", match.group(0))\n",
    "print (\"Entry:\", match[0])\n"
   ]
  },
  {
   "cell_type": "markdown",
   "metadata": {},
   "source": [
    "![what](what_regex.png)"
   ]
  },
  {
   "cell_type": "markdown",
   "metadata": {},
   "source": [
    "**Группирующие скобки**\n",
    "\n",
    "Если в шаблоне регулярного выражения встречаются скобки (...) без ?:, то они становятся группирующими. В match-объекте, который возвращают re.search, re.fullmatch и re.finditer, по каждой такой группе можно получить ту же информацию, что и по всему шаблону. А именно часть подстроки, которая соответствует (...), а также индексы начала и окончания в исходной строке. Достаточно часто это бывает полезно."
   ]
  },
  {
   "cell_type": "code",
   "execution_count": 63,
   "metadata": {},
   "outputs": [
    {
     "name": "stdout",
     "output_type": "stream",
     "text": [
      "Найдена подстрока >   Опять45   < с позиции 3 до 16\n",
      "Группа букв >Опять< с позиции 6 до 11\n",
      "Группа цифр >45< с позиции 11 до 13\n"
     ]
    }
   ],
   "source": [
    "pattern = r'\\s*([А-Яа-яЁё]+)(\\d+)\\s*' \n",
    "string = r'---   Опять45   ---' \n",
    "match = re.search(pattern, string) \n",
    "\n",
    "# here we use f-strings\n",
    "print(f'Найдена подстрока >{match[0]}< с позиции {match.start(0)} до {match.end(0)}') \n",
    "print(f'Группа букв >{match[1]}< с позиции {match.start(1)} до {match.end(1)}') \n",
    "print(f'Группа цифр >{match[2]}< с позиции {match.start(2)} до {match.end(2)}') "
   ]
  },
  {
   "cell_type": "markdown",
   "metadata": {},
   "source": [
    "![what](groups.png)"
   ]
  },
  {
   "cell_type": "markdown",
   "metadata": {},
   "source": [
    "Если к группирующей скобке применен квантификатор, то подгруппа будет создана только для последнего объекта"
   ]
  },
  {
   "cell_type": "code",
   "execution_count": 64,
   "metadata": {},
   "outputs": [
    {
     "name": "stdout",
     "output_type": "stream",
     "text": [
      "Найдена подстрока >   Опять45   < с позиции 3 до 16\n",
      "Группа букв >ь< с позиции 10 до 11\n",
      "Группа цифр >5< с позиции 12 до 13\n"
     ]
    }
   ],
   "source": [
    "#pattern = r'\\s*([А-Яа-яЁё]+)(\\d+)\\s*' previous one\n",
    "pattern = r'\\s*([А-Яа-яЁё])+(\\d)+\\s*'\n",
    "string = r'---   Опять45   ---' \n",
    "match = re.search(pattern, string) \n",
    "\n",
    "# here we use f-strings\n",
    "print(f'Найдена подстрока >{match[0]}< с позиции {match.start(0)} до {match.end(0)}') \n",
    "print(f'Группа букв >{match[1]}< с позиции {match.start(1)} до {match.end(1)}') \n",
    "print(f'Группа цифр >{match[2]}< с позиции {match.start(2)} до {match.end(2)}') \n"
   ]
  },
  {
   "cell_type": "markdown",
   "metadata": {},
   "source": [
    "Внутри группирующих скобок могут быть и другие группирующие скобки. В этом случае их нумерация производится в соответствии с номером появления открывающей скобки с шаблоне."
   ]
  },
  {
   "cell_type": "code",
   "execution_count": 65,
   "metadata": {},
   "outputs": [
    {
     "name": "stdout",
     "output_type": "stream",
     "text": [
      "Найдена подстрока >1234< с позиции 0 до 4\n",
      "Группа №1 >12< с позиции 0 до 2\n",
      "Группа №2 >1< с позиции 0 до 1\n",
      "Группа №3 >2< с позиции 1 до 2\n",
      "Группа №4 >34< с позиции 2 до 4\n",
      "Группа №5 >3< с позиции 2 до 3\n",
      "Группа №6 >4< с позиции 3 до 4\n"
     ]
    }
   ],
   "source": [
    "pattern = r'((\\d)(\\d))((\\d)(\\d))' \n",
    "string = r'123456789' \n",
    "match = re.search(pattern, string) \n",
    "print(f'Найдена подстрока >{match[0]}< с позиции {match.start(0)} до {match.end(0)}') \n",
    "for i in range(1, 7): \n",
    "    print(f'Группа №{i} >{match[i]}< с позиции {match.start(i)} до {match.end(i)}') "
   ]
  },
  {
   "cell_type": "markdown",
   "metadata": {},
   "source": [
    "**re.findall**"
   ]
  },
  {
   "cell_type": "markdown",
   "metadata": {},
   "source": [
    "Возвращает сразу все найденное. Лучше не использовать, т.к едим память, да и поведение у него порой непредсказуемое\n",
    "\n",
    "Если в шаблоне есть группирующие скобки, то вместо списка найденных подстрок будет возвращён список кортежей, в каждом из которых только соответствие каждой группе. Это не всегда происходит по плану, поэтому обычно нужно использовать негруппирующие скобки (?:...)"
   ]
  },
  {
   "cell_type": "code",
   "execution_count": 66,
   "metadata": {},
   "outputs": [
    {
     "name": "stdout",
     "output_type": "stream",
     "text": [
      "[('foo', '3'), ('im', '12'), ('go', ''), ('buz', '42')]\n"
     ]
    }
   ],
   "source": [
    "print(re.findall(r'([a-z]+)(\\d*)', r'foo3, im12, go, 24buz42')) \n",
    "# -> [('foo', '3'), ('im', '12'), ('go', ''), ('buz', '42')] "
   ]
  },
  {
   "cell_type": "markdown",
   "metadata": {},
   "source": [
    "**re.finditer**"
   ]
  },
  {
   "cell_type": "markdown",
   "metadata": {},
   "source": [
    "То же самое, но результат явно понятнее"
   ]
  },
  {
   "cell_type": "code",
   "execution_count": 100,
   "metadata": {},
   "outputs": [
    {
     "name": "stdout",
     "output_type": "stream",
     "text": [
      "foo3 foo\n",
      "im12 im\n",
      "go go\n",
      "buz42 buz\n"
     ]
    }
   ],
   "source": [
    "for match in re.finditer(r'([a-z]+)(\\d*)', r'foo3, im12, go, 24buz42'):\n",
    "    print (match.group(0), match.group(1))"
   ]
  },
  {
   "cell_type": "markdown",
   "metadata": {},
   "source": [
    "**Группы и re.split**"
   ]
  },
  {
   "cell_type": "markdown",
   "metadata": {},
   "source": [
    "Если в шаблоне нет группирующих скобок, то re.split работает очень похожим образом на str.split.\n",
    "\n",
    "Например, разрежем последовательность по рестриктным сайтам (считаем, что они не пересекаются)"
   ]
  },
  {
   "cell_type": "code",
   "execution_count": null,
   "metadata": {
    "collapsed": true
   },
   "outputs": [],
   "source": [
    "restriction_sites = [\"ATGCGCAT\", \"CCGGCCGG\", \"AGAG\"]"
   ]
  },
  {
   "cell_type": "markdown",
   "metadata": {},
   "source": [
    "А вот если группирующие скобки в шаблоне есть, то между каждыми разрезанными строками будут все соответствия каждой из подгрупп."
   ]
  },
  {
   "cell_type": "code",
   "execution_count": 73,
   "metadata": {},
   "outputs": [
    {
     "name": "stdout",
     "output_type": "stream",
     "text": [
      "['12', '  ', '+', '  ', '13', '', '*', '', '15', '   ', '-', ' ', '6']\n"
     ]
    }
   ],
   "source": [
    "print(re.split(r'(\\s*)([+*/-])(\\s*)', r'12  +  13*15   - 6')) \n",
    "# -> ['12', '  ', '+', '  ', '13', '', '*', '', '15', '   ', '-', ' ', '6'] "
   ]
  },
  {
   "cell_type": "markdown",
   "metadata": {},
   "source": [
    "Если убрать лишние подгруппы, то получаем удобную вещь:"
   ]
  },
  {
   "cell_type": "code",
   "execution_count": 74,
   "metadata": {},
   "outputs": [
    {
     "name": "stdout",
     "output_type": "stream",
     "text": [
      "['12', '+', '13', '*', '15', '-', '6']\n"
     ]
    }
   ],
   "source": [
    "print(re.split(r'\\s*([+*/-])\\s*', r'12  +  13*15   - 6')) "
   ]
  },
  {
   "cell_type": "markdown",
   "metadata": {},
   "source": [
    "**Использование групп при заменах**\n",
    "\n",
    "На группы можно ссылать по их номеру (и имени, будет рассмотрено далее) в шаблоне.\n",
    "\n",
    "Например, если можно перевести даты из неудобного формата ММ/ДД/ГГГГ перевести в удобный ДД.ММ.ГГГГ"
   ]
  },
  {
   "cell_type": "code",
   "execution_count": 75,
   "metadata": {},
   "outputs": [
    {
     "name": "stdout",
     "output_type": "stream",
     "text": [
      "We arrive on 25.03.2018. So you are welcome after 01.04.2018.\n"
     ]
    }
   ],
   "source": [
    "text = \"We arrive on 03/25/2018. So you are welcome after 04/01/2018.\" \n",
    "print(re.sub(r'(\\d\\d)/(\\d\\d)/(\\d{4})', r'\\2.\\1.\\3', text)) "
   ]
  },
  {
   "cell_type": "markdown",
   "metadata": {},
   "source": [
    "Если групп больше 9, то можно ссылаться на них при помощи конструкции вида \\g<12>. (но в этом случае уж лучше имена групп пользоваться)"
   ]
  },
  {
   "cell_type": "markdown",
   "metadata": {},
   "source": [
    "**Замена с обработкой шаблона функцией в питоне**"
   ]
  },
  {
   "cell_type": "markdown",
   "metadata": {},
   "source": [
    "Ещё одна питоновская фича для регулярных выражений: в функции re.sub вместо текста для замены можно передать функцию, которая будет получать на вход match-объект и должна возвращать строку, на которую и будет произведена замена. Это позволяет не писать ад в шаблоне для замены, а использовать удобную функцию. Например, «зацензурим» все слова, начинающиеся на букву «Х»:"
   ]
  },
  {
   "cell_type": "code",
   "execution_count": 78,
   "metadata": {},
   "outputs": [
    {
     "name": "stdout",
     "output_type": "stream",
     "text": [
      "Некоторые >censored(7)< слова подозрительны: >censored(3)<, >censored(7)<, >censored(15)<.\n"
     ]
    }
   ],
   "source": [
    "def censor(m): \n",
    "    return '>censored(' + str(len(m[0])) + ')<' \n",
    "text = \"Некоторые хорошие слова подозрительны: хор, хоровод, хороводоводовед.\" \n",
    "\n",
    "print(re.sub(r'\\b[хХxX]\\w*', censor, text)) \n",
    "# -> Некоторые >censored(7)< слова подозрительны: >censored(3)<, >censored(7)<, >censored(15)<. "
   ]
  },
  {
   "cell_type": "markdown",
   "metadata": {},
   "source": [
    "Замаскируем длинные повторы из одного нуклеотида в последовательности"
   ]
  },
  {
   "cell_type": "code",
   "execution_count": 98,
   "metadata": {},
   "outputs": [
    {
     "name": "stdout",
     "output_type": "stream",
     "text": [
      "TAGA<R_A_9>G<R_C_8>\n"
     ]
    }
   ],
   "source": [
    "def repeat_masker(m, max_len=5):\n",
    "    if len(m[0]) > max_len:\n",
    "        return \"<R_\" + m[1] + \"_\" + str(len(m[0])) + \">\"\n",
    "\n",
    "seq = \"TGGAGAGGAAAAAAAAAGCCCCCCCC\"\n",
    "print (re.sub(r'(\\w)(\\1)+', repeat_masker, seq))\n",
    "\n"
   ]
  },
  {
   "cell_type": "markdown",
   "metadata": {},
   "source": [
    "**Именованные группы**"
   ]
  },
  {
   "cell_type": "code",
   "execution_count": 102,
   "metadata": {},
   "outputs": [
    {
     "data": {
      "text/plain": [
       "'1234'"
      ]
     },
     "execution_count": 102,
     "metadata": {},
     "output_type": "execute_result"
    }
   ],
   "source": [
    "match = re.search(r'(?P<id>\\d+)', \"asdsad 1234\")\n",
    "match.group(\"id\")"
   ]
  },
  {
   "cell_type": "code",
   "execution_count": 104,
   "metadata": {},
   "outputs": [
    {
     "name": "stdout",
     "output_type": "stream",
     "text": [
      "Eugene\n",
      "Koonin\n",
      "Viktorovich\n"
     ]
    }
   ],
   "source": [
    "import re\n",
    "regular = r\"(?P<name>[A-Z][a-z]+) (?P<surname>[A-Z][a-z]+)\\s?(?P<patronymic>[A-Z][a-z]+)?\" \n",
    "\n",
    "pat = re.match(regular, \"Eugene Koonin Viktorovich \")\n",
    "print (pat.group(\"name\")) \n",
    "print (pat.group(\"surname\")) \n",
    "print (pat.group(\"patronymic\")) "
   ]
  },
  {
   "cell_type": "markdown",
   "metadata": {},
   "source": [
    "Обратиться к именованной группе - (?P=quote), если в самом выражении, \"\\g< name > в регулярном выражении, говорящем на что заменить в re.sub"
   ]
  },
  {
   "cell_type": "code",
   "execution_count": 127,
   "metadata": {
    "collapsed": true
   },
   "outputs": [],
   "source": [
    "pat = re.sub(regular, r'\\g<name> \\g<surname>', \"Eugene Koonin Viktorovich\")"
   ]
  },
  {
   "cell_type": "code",
   "execution_count": 128,
   "metadata": {},
   "outputs": [
    {
     "data": {
      "text/plain": [
       "'Eugene Koonin'"
      ]
     },
     "execution_count": 128,
     "metadata": {},
     "output_type": "execute_result"
    }
   ],
   "source": [
    "pat"
   ]
  },
  {
   "cell_type": "markdown",
   "metadata": {},
   "source": [
    "**Lookaround**"
   ]
  },
  {
   "cell_type": "code",
   "execution_count": 130,
   "metadata": {},
   "outputs": [
    {
     "name": "stdout",
     "output_type": "stream",
     "text": [
      "99_problems.jpg     groups.png          re_python_table.png what_regex.png\r\n",
      "Regex.ipynb         look.png            save_the_world.jpg\r\n"
     ]
    }
   ],
   "source": [
    "!ls"
   ]
  },
  {
   "cell_type": "markdown",
   "metadata": {},
   "source": [
    "![look](look_around_table.png)"
   ]
  },
  {
   "cell_type": "markdown",
   "metadata": {},
   "source": [
    "![look](look.png)"
   ]
  },
  {
   "cell_type": "markdown",
   "metadata": {},
   "source": [
    "**Домашнее задание.**"
   ]
  },
  {
   "cell_type": "markdown",
   "metadata": {},
   "source": [
    "1) Решить три первых кроссворда из https://regexcrossword.com (имеется ввиду весь блок кроссвордов), конкретно - Tutorial, Beginner, Intermediate\n",
    "\n",
    "Все остальные блоки - на дополнительные баллы. За полигоны - 2 балла, за все остальное - по одному\n",
    "\n",
    "2) Решить задачи 01, 04, 07 с https://habrahabr.ru/post/349860/\n",
    "\n",
    "Все остальные задачи - за дополнительные баллы. \n",
    "Задачи 02, 05, 08, 09, 11, 12 - 0.5 балла, остальное - 1 балл"
   ]
  }
 ],
 "metadata": {
  "kernelspec": {
   "display_name": "Python 3",
   "language": "python",
   "name": "python3"
  },
  "language_info": {
   "codemirror_mode": {
    "name": "ipython",
    "version": 3
   },
   "file_extension": ".py",
   "mimetype": "text/x-python",
   "name": "python",
   "nbconvert_exporter": "python",
   "pygments_lexer": "ipython3",
   "version": "3.6.1"
  }
 },
 "nbformat": 4,
 "nbformat_minor": 2
}
