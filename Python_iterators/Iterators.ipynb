{
 "cells": [
  {
   "cell_type": "code",
   "execution_count": 16,
   "metadata": {
    "collapsed": true
   },
   "outputs": [],
   "source": [
    "from functools import lru_cache\n",
    "\n",
    "@lru_cache(maxsize=None)\n",
    "def cost(st_ar, i):\n",
    "    print(\"Start\", i + 1)\n",
    "    if i == 0:\n",
    "        return st_ar[i]\n",
    "    if i == 1:\n",
    "        return st_ar[i]\n",
    "    s = st_ar[i] + min(cost(st_ar, i -1), cost(st_ar, i - 2))\n",
    "    print(\"End\", i + 1, s)\n",
    "    return s"
   ]
  },
  {
   "cell_type": "code",
   "execution_count": 17,
   "metadata": {
    "collapsed": true
   },
   "outputs": [],
   "source": [
    "st_ar = (1,2,3,4,5)"
   ]
  },
  {
   "cell_type": "code",
   "execution_count": 18,
   "metadata": {},
   "outputs": [
    {
     "name": "stdout",
     "output_type": "stream",
     "text": [
      "Start 5\n",
      "Start 4\n",
      "Start 3\n",
      "Start 2\n",
      "Start 1\n",
      "End 3 4\n",
      "End 4 6\n",
      "End 5 9\n"
     ]
    },
    {
     "data": {
      "text/plain": [
       "9"
      ]
     },
     "execution_count": 18,
     "metadata": {},
     "output_type": "execute_result"
    }
   ],
   "source": [
    "cost(st_ar, len(st_ar) - 1)"
   ]
  },
  {
   "cell_type": "code",
   "execution_count": 6,
   "metadata": {
    "collapsed": true
   },
   "outputs": [],
   "source": [
    "import dis"
   ]
  },
  {
   "cell_type": "markdown",
   "metadata": {},
   "source": [
    "# List comprehensions. Списочные сокращения  "
   ]
  },
  {
   "cell_type": "markdown",
   "metadata": {},
   "source": [
    "Часто работа с данными представимы в последовательной обработкой списков, в ходе которой к каждому объекту списка применяется какая функция, а полученный результат складывается в новый список. "
   ]
  },
  {
   "cell_type": "code",
   "execution_count": 67,
   "metadata": {
    "collapsed": true
   },
   "outputs": [],
   "source": [
    "CODON_TABLE = {'AAA': 'K',\n",
    " 'AAC': 'N', 'AAG': 'K', 'AAU': 'N', 'ACA': 'T',\n",
    " 'ACC': 'T', 'ACG': 'T', 'ACU': 'T','AGA': 'R',\n",
    " 'AGC': 'S', 'AGG': 'R', 'AGU': 'S', 'AUA': 'I',\n",
    " 'AUC': 'I', 'AUG': 'M', 'AUU': 'I', 'CAA': 'Q',\n",
    " 'CAC': 'H', 'CAG': 'Q', 'CAU': 'H', 'CCA': 'P',\n",
    " 'CCC': 'P', 'CCG': 'P', 'CCU': 'P', 'CGA': 'R',\n",
    " 'CGC': 'R', 'CGG': 'R', 'CGU': 'R', 'CUA': 'L',\n",
    " 'CUC': 'L', 'CUG': 'L', 'CUU': 'L', 'GAA': 'E',\n",
    " 'GAC': 'D', 'GAG': 'E', 'GAU': 'D', 'GCA': 'A',\n",
    " 'GCC': 'A', 'GCG': 'A', 'GCU': 'A', 'GGA': 'G',\n",
    " 'GGC': 'G', 'GGG': 'G', 'GGU': 'G', 'GUA': 'V',\n",
    " 'GUC': 'V', 'GUG': 'V', 'GUU': 'V', 'UAA': '*',\n",
    " 'UAC': 'Y', 'UAG': '*', 'UAU': 'Y', 'UCA': 'S',\n",
    " 'UCC': 'S', 'UCG': 'S', 'UCU': 'S', 'UGA': '*',\n",
    " 'UGC': 'C', 'UGG': 'W', 'UGU': 'C', 'UUA': 'L',\n",
    " 'UUC': 'F', 'UUG': 'L', 'UUU': 'F'}"
   ]
  },
  {
   "cell_type": "code",
   "execution_count": 68,
   "metadata": {},
   "outputs": [
    {
     "data": {
      "text/plain": [
       "['AAA', 'AAC', 'AAG', 'AAU', 'ACA', 'ACC', 'ACG', 'ACU', 'AGA', 'AGC']"
      ]
     },
     "execution_count": 68,
     "metadata": {},
     "output_type": "execute_result"
    }
   ],
   "source": [
    "import random\n",
    "random.seed(42)\n",
    "codons = []\n",
    "codon_names = list(CODON_TABLE.keys())\n",
    "for _ in range(100000):\n",
    "    codons.append(random.choice(codon_names))\n",
    "\n",
    "codon_names[0:10]"
   ]
  },
  {
   "cell_type": "code",
   "execution_count": 33,
   "metadata": {},
   "outputs": [
    {
     "data": {
      "text/plain": [
       "['R', 'M', 'V', 'R', 'R', 'L', 'S', 'K', 'L', 'T']"
      ]
     },
     "execution_count": 33,
     "metadata": {},
     "output_type": "execute_result"
    }
   ],
   "source": [
    "def get_aminoacids(codons):\n",
    "    aminoacids = []\n",
    "    for c in codons:\n",
    "        aminoacids.append(CODON_TABLE[c])\n",
    "    return aminoacids\n",
    "aminoacids = get_aminoacids(codons)\n",
    "aminoacids[0:10]"
   ]
  },
  {
   "cell_type": "code",
   "execution_count": 34,
   "metadata": {},
   "outputs": [
    {
     "name": "stdout",
     "output_type": "stream",
     "text": [
      "9.55 ms ± 316 µs per loop (mean ± std. dev. of 7 runs, 100 loops each)\n"
     ]
    }
   ],
   "source": [
    "%%timeit\n",
    "aminoacids = get_aminoacids(codons)"
   ]
  },
  {
   "cell_type": "markdown",
   "metadata": {},
   "source": [
    "В Python существует специальный синтаксис для таких действий - list comprehensions. Но это не просто \"синтаксический сахар\". Это работает быстрее за счет внутренних оптимизаций. "
   ]
  },
  {
   "cell_type": "code",
   "execution_count": 35,
   "metadata": {
    "collapsed": true
   },
   "outputs": [],
   "source": [
    "def get_aminoacids_comprehension(codons):\n",
    "    return [CODON_TABLE[c] for c in codons]"
   ]
  },
  {
   "cell_type": "code",
   "execution_count": 36,
   "metadata": {},
   "outputs": [
    {
     "name": "stdout",
     "output_type": "stream",
     "text": [
      "5.05 ms ± 227 µs per loop (mean ± std. dev. of 7 runs, 100 loops each)\n"
     ]
    }
   ],
   "source": [
    "%%timeit\n",
    "get_aminoacids_comprehension(codons)"
   ]
  },
  {
   "cell_type": "markdown",
   "metadata": {},
   "source": [
    "Посмотрим на байткод (внутренне представления Python) наших двух функций"
   ]
  },
  {
   "cell_type": "code",
   "execution_count": 37,
   "metadata": {},
   "outputs": [
    {
     "name": "stdout",
     "output_type": "stream",
     "text": [
      "Start of trivial version\n",
      "  2           0 BUILD_LIST               0\n",
      "              2 STORE_FAST               1 (aminoacids)\n",
      "\n",
      "  3           4 SETUP_LOOP              26 (to 32)\n",
      "              6 LOAD_FAST                0 (codons)\n",
      "              8 GET_ITER\n",
      "        >>   10 FOR_ITER                18 (to 30)\n",
      "             12 STORE_FAST               2 (c)\n",
      "\n",
      "  4          14 LOAD_FAST                1 (aminoacids)\n",
      "             16 LOAD_ATTR                0 (append)\n",
      "             18 LOAD_GLOBAL              1 (CODON_TABLE)\n",
      "             20 LOAD_FAST                2 (c)\n",
      "             22 BINARY_SUBSCR\n",
      "             24 CALL_FUNCTION            1\n",
      "             26 POP_TOP\n",
      "             28 JUMP_ABSOLUTE           10\n",
      "        >>   30 POP_BLOCK\n",
      "\n",
      "  5     >>   32 LOAD_FAST                1 (aminoacids)\n",
      "             34 RETURN_VALUE\n",
      "End\n",
      "Start of list comprehension version\n",
      "  2           0 LOAD_CONST               1 (<code object <listcomp> at 0x10ea89660, file \"<ipython-input-35-9cdeca52a8e8>\", line 2>)\n",
      "              2 LOAD_CONST               2 ('get_aminoacids_comprehension.<locals>.<listcomp>')\n",
      "              4 MAKE_FUNCTION            0\n",
      "              6 LOAD_FAST                0 (codons)\n",
      "              8 GET_ITER\n",
      "             10 CALL_FUNCTION            1\n",
      "             12 RETURN_VALUE\n",
      "End\n"
     ]
    }
   ],
   "source": [
    "from dis import dis\n",
    "print (\"Start of trivial version\")\n",
    "dis(get_aminoacids)\n",
    "print (\"End\")\n",
    "print (\"Start of list comprehension version\")\n",
    "dis(get_aminoacids_comprehension)\n",
    "print (\"End\")"
   ]
  },
  {
   "cell_type": "markdown",
   "metadata": {},
   "source": [
    "## Списочные сокращения для словарей и множеств"
   ]
  },
  {
   "cell_type": "markdown",
   "metadata": {},
   "source": [
    "А что, если мы хотим таким же образом создать словарь? Есть синтаксис и для словарей"
   ]
  },
  {
   "cell_type": "markdown",
   "metadata": {},
   "source": [
    "Создадим словарь, для числа n хранящий значение соответствующего числа Фибоначчи\n",
    "\n"
   ]
  },
  {
   "cell_type": "code",
   "execution_count": 20,
   "metadata": {},
   "outputs": [
    {
     "name": "stdout",
     "output_type": "stream",
     "text": [
      "{0: 0, 1: 1, 2: 1, 3: 2, 4: 3, 5: 5, 6: 8, 7: 13, 8: 21, 9: 34}\n"
     ]
    }
   ],
   "source": [
    "def fibonacci(n):\n",
    "    f0, f1 = 0, 1\n",
    "    for i in range(n):\n",
    "        f0, f1 = f1, f0 + f1\n",
    "    return f0\n",
    "\n",
    "fibonacci_dt = { i : fibonacci(i) for i in range(10)}\n",
    "print (fibonacci_dt)"
   ]
  },
  {
   "cell_type": "markdown",
   "metadata": {},
   "source": [
    "Можно и множество так сделать (пусть тоже чисел Фибоначчи), и tuple (но по приичинам, что обсудим позже, здесь придется использовать tuple до скобок)\n"
   ]
  },
  {
   "cell_type": "code",
   "execution_count": 21,
   "metadata": {},
   "outputs": [
    {
     "name": "stdout",
     "output_type": "stream",
     "text": [
      "{0, 1, 2, 3, 34, 5, 8, 13, 21}\n",
      "(0, 1, 1, 2, 3, 5, 8, 13, 21, 34)\n"
     ]
    }
   ],
   "source": [
    "fibonacci_set = {fibonacci(i) for i in range(10)}\n",
    "fibonacci_tuple = tuple(fibonacci(i) for i in range(10))\n",
    "print (fibonacci_set)\n",
    "print (fibonacci_tuple)"
   ]
  },
  {
   "cell_type": "markdown",
   "metadata": {},
   "source": [
    "## Тернарный оператор. Однострочный If else"
   ]
  },
  {
   "cell_type": "markdown",
   "metadata": {},
   "source": [
    "Важно, что в Python если однострочный if else. Называется тернарным оператором, так как использует  три аргумента - условие, что вовзращать, если условие истинно и что возвращать, если условие ложно"
   ]
  },
  {
   "cell_type": "code",
   "execution_count": 80,
   "metadata": {},
   "outputs": [
    {
     "name": "stdout",
     "output_type": "stream",
     "text": [
      "5\n",
      "StopCodon\n"
     ]
    }
   ],
   "source": [
    "a = 5 if 14 % 7 == 0 else 7\n",
    "print (a)\n",
    "codon = \"UAA\"\n",
    "a = \"StopCodon\" if codon in (\"UAA\",  \"UAG\",  'UGA') else \"Tryptophan\" if codon == 'UGG' else \"Other\"\n",
    "print (a)"
   ]
  },
  {
   "cell_type": "markdown",
   "metadata": {},
   "source": [
    "Как увидим позже, и его тоже можно использовать в list comprehension"
   ]
  },
  {
   "cell_type": "code",
   "execution_count": 81,
   "metadata": {},
   "outputs": [
    {
     "data": {
      "text/plain": [
       "['Even', 'Odd', 'Even', 'Odd', 'Even', 'Odd', 'Even', 'Odd', 'Even', 'Odd']"
      ]
     },
     "execution_count": 81,
     "metadata": {},
     "output_type": "execute_result"
    }
   ],
   "source": [
    "odd_or_even = [\"Odd\" if x % 2 == 1 else \"Even\" for x in range(100)] \n",
    "odd_or_even[0:10]"
   ]
  },
  {
   "cell_type": "markdown",
   "metadata": {},
   "source": [
    "## Map. Filter"
   ]
  },
  {
   "cell_type": "markdown",
   "metadata": {},
   "source": [
    "Две наиболее частые задачи, которые применяются к спискам - это применить  функцию к значениям из одного списка и поместить результат в другой, и - отфильтровать значения из списка по какому-то критерию. Они могут быть реализованы с помощью двух подходов.\n",
    "Первый - уже разобранный list comprehensions. Второй - использование встроенных функций map и filter"
   ]
  },
  {
   "cell_type": "markdown",
   "metadata": {},
   "source": [
    "Например, если хотим сделать словарь квадратов от 0 до 100. Можно так:"
   ]
  },
  {
   "cell_type": "code",
   "execution_count": 41,
   "metadata": {},
   "outputs": [
    {
     "name": "stdout",
     "output_type": "stream",
     "text": [
      "[0, 1, 4, 9, 16, 25, 36, 49, 64, 81, 100, 121, 144, 169, 196, 225, 256, 289, 324, 361, 400, 441, 484, 529, 576, 625, 676, 729, 784, 841, 900, 961, 1024, 1089, 1156, 1225, 1296, 1369, 1444, 1521, 1600, 1681, 1764, 1849, 1936, 2025, 2116, 2209, 2304, 2401, 2500, 2601, 2704, 2809, 2916, 3025, 3136, 3249, 3364, 3481, 3600, 3721, 3844, 3969, 4096, 4225, 4356, 4489, 4624, 4761, 4900, 5041, 5184, 5329, 5476, 5625, 5776, 5929, 6084, 6241, 6400, 6561, 6724, 6889, 7056, 7225, 7396, 7569, 7744, 7921, 8100, 8281, 8464, 8649, 8836, 9025, 9216, 9409, 9604, 9801, 10000]\n"
     ]
    }
   ],
   "source": [
    "squares = [x ** 2 for x in range(101)]\n",
    "print (squares)"
   ]
  },
  {
   "cell_type": "markdown",
   "metadata": {},
   "source": [
    "А можно так:"
   ]
  },
  {
   "cell_type": "code",
   "execution_count": 42,
   "metadata": {},
   "outputs": [
    {
     "name": "stdout",
     "output_type": "stream",
     "text": [
      "[0, 1, 4, 9, 16, 25, 36, 49, 64, 81, 100, 121, 144, 169, 196, 225, 256, 289, 324, 361, 400, 441, 484, 529, 576, 625, 676, 729, 784, 841, 900, 961, 1024, 1089, 1156, 1225, 1296, 1369, 1444, 1521, 1600, 1681, 1764, 1849, 1936, 2025, 2116, 2209, 2304, 2401, 2500, 2601, 2704, 2809, 2916, 3025, 3136, 3249, 3364, 3481, 3600, 3721, 3844, 3969, 4096, 4225, 4356, 4489, 4624, 4761, 4900, 5041, 5184, 5329, 5476, 5625, 5776, 5929, 6084, 6241, 6400, 6561, 6724, 6889, 7056, 7225, 7396, 7569, 7744, 7921, 8100, 8281, 8464, 8649, 8836, 9025, 9216, 9409, 9604, 9801, 10000]\n"
     ]
    }
   ],
   "source": [
    "squares = list(map(lambda x : x ** 2, range(101)))\n",
    "print (squares)"
   ]
  },
  {
   "cell_type": "markdown",
   "metadata": {},
   "source": [
    "Map принимает на вход первым аргументом функцию, которую надо применить к списку (или другому итерируемому объекту), а вторым- сам объект"
   ]
  },
  {
   "cell_type": "code",
   "execution_count": 43,
   "metadata": {},
   "outputs": [
    {
     "data": {
      "text/plain": [
       "['R', 'M', 'V', 'R', 'R', 'L', 'S', 'K', 'L', 'T']"
      ]
     },
     "execution_count": 43,
     "metadata": {},
     "output_type": "execute_result"
    }
   ],
   "source": [
    "aminoacids = list(map(lambda x : CODON_TABLE[x], codons))\n",
    "aminoacids[0:10]"
   ]
  },
  {
   "cell_type": "code",
   "execution_count": 44,
   "metadata": {},
   "outputs": [
    {
     "name": "stdout",
     "output_type": "stream",
     "text": [
      "11.7 ms ± 194 µs per loop (mean ± std. dev. of 7 runs, 100 loops each)\n"
     ]
    }
   ],
   "source": [
    "%%timeit\n",
    "aminoacids = list(map(lambda x : CODON_TABLE[x], codons))"
   ]
  },
  {
   "cell_type": "markdown",
   "metadata": {},
   "source": [
    "Работает медленнее, так как map возвращает итератор (разберем позднее), который мы затем превращаем в список"
   ]
  },
  {
   "cell_type": "markdown",
   "metadata": {},
   "source": [
    "Теперь допустим, что мы хотим отфильтровать наши объекты по какому-то принципу. Например, хотим из первых 1000 чисел отобрать только дающие при делении на 7 остаток 5"
   ]
  },
  {
   "cell_type": "code",
   "execution_count": 45,
   "metadata": {},
   "outputs": [
    {
     "data": {
      "text/plain": [
       "[5, 12, 19, 26, 33, 40, 47, 54, 61, 68]"
      ]
     },
     "execution_count": 45,
     "metadata": {},
     "output_type": "execute_result"
    }
   ],
   "source": [
    "div7_5 = [x for x in range(1000) if x % 7 == 5]\n",
    "div7_5[0:10]"
   ]
  },
  {
   "cell_type": "markdown",
   "metadata": {},
   "source": [
    "Аналогичную операцию делает filter"
   ]
  },
  {
   "cell_type": "code",
   "execution_count": 46,
   "metadata": {
    "scrolled": true
   },
   "outputs": [
    {
     "name": "stdout",
     "output_type": "stream",
     "text": [
      "[5, 12, 19, 26, 33, 40, 47, 54, 61, 68]\n"
     ]
    }
   ],
   "source": [
    "div7_5 = list(filter(lambda x : x % 7 == 5, range(1000)))\n",
    "print (div7_5[0:10])"
   ]
  },
  {
   "cell_type": "markdown",
   "metadata": {},
   "source": [
    "# Итераторы и итерируемые объекты\n",
    "\n",
    "\n",
    "Итератор — это объект-абстракция, который позволяет брать из источника, будь это stdin или, скажем, какой-то большой контейнер, элемент за элементом, при этом итератор знает только о том объекте, на котором он в текущий момент остановился. \n",
    "\n",
    " \n",
    "\n",
    "В Python (и не только в нем) есть два понятия, которые звучат практически одинаково, но обозначают разные вещи, — iterator и iterable. Первое — это объект, который реализует описанный выше интерфейс, а второе — контейнер, который может служить источником данных для итератора.\n",
    "Чтобы получить итератор для iterable, в Python есть специальная функция **iter**\n",
    "\n",
    "Например, всем известный список является итерируемым объектом. "
   ]
  },
  {
   "cell_type": "code",
   "execution_count": 24,
   "metadata": {},
   "outputs": [
    {
     "name": "stdout",
     "output_type": "stream",
     "text": [
      "<class 'list_iterator'> <list_iterator object at 0x053312D0>\n"
     ]
    }
   ],
   "source": [
    "nucleotides = [\"A\", \"T\", \"G\", \"C\"]\n",
    "\n",
    "nucleotides_iterator = iter(nucleotides)\n",
    "print (type(nucleotides_iterator), nucleotides_iterator)"
   ]
  },
  {
   "cell_type": "markdown",
   "metadata": {},
   "source": [
    "Используя итератор можно получить следующий элемент из источника с помощью функции **next**."
   ]
  },
  {
   "cell_type": "code",
   "execution_count": 7,
   "metadata": {},
   "outputs": [
    {
     "name": "stdout",
     "output_type": "stream",
     "text": [
      "A\n",
      "T\n",
      "G\n",
      "C\n"
     ]
    }
   ],
   "source": [
    "print (next(nucleotides_iterator))\n",
    "print (next(nucleotides_iterator))\n",
    "print (next(nucleotides_iterator))\n",
    "print (next(nucleotides_iterator))"
   ]
  },
  {
   "cell_type": "markdown",
   "metadata": {},
   "source": [
    "Если мы дошли до конца источника (в данном случае - списка), то вызов next вызовет исключение"
   ]
  },
  {
   "cell_type": "code",
   "execution_count": 9,
   "metadata": {},
   "outputs": [
    {
     "ename": "StopIteration",
     "evalue": "",
     "output_type": "error",
     "traceback": [
      "\u001b[0;31m---------------------------------------------------------------------------\u001b[0m",
      "\u001b[0;31mStopIteration\u001b[0m                             Traceback (most recent call last)",
      "\u001b[0;32m<ipython-input-9-7e3649ccd309>\u001b[0m in \u001b[0;36m<module>\u001b[0;34m()\u001b[0m\n\u001b[0;32m----> 1\u001b[0;31m \u001b[0mprint\u001b[0m \u001b[0;34m(\u001b[0m\u001b[0mnext\u001b[0m\u001b[0;34m(\u001b[0m\u001b[0mnucleotides_iterator\u001b[0m\u001b[0;34m)\u001b[0m\u001b[0;34m)\u001b[0m\u001b[0;34m\u001b[0m\u001b[0m\n\u001b[0m",
      "\u001b[0;31mStopIteration\u001b[0m: "
     ]
    }
   ],
   "source": [
    "print (next(nucleotides_iterator))"
   ]
  },
  {
   "cell_type": "markdown",
   "metadata": {},
   "source": [
    "Строки, множества, словари, файлы - тоже являются итерируемыми объектами. Зачем нам это нужно? \n",
    "\n",
    "На самом деле, даже использую цикл for мы неявно используем механизм итераторов"
   ]
  },
  {
   "cell_type": "code",
   "execution_count": 19,
   "metadata": {},
   "outputs": [
    {
     "name": "stdout",
     "output_type": "stream",
     "text": [
      "A\n",
      "T\n",
      "G\n",
      "C\n"
     ]
    }
   ],
   "source": [
    "def print_nucleotides():\n",
    "    for n in nucleotides:\n",
    "        print (n)\n",
    "        \n",
    "print_nucleotides()"
   ]
  },
  {
   "cell_type": "markdown",
   "metadata": {},
   "source": [
    "Наиболее явно нам это помогает увидеть машинный код, в который переводит Python нашу функцию"
   ]
  },
  {
   "cell_type": "code",
   "execution_count": 16,
   "metadata": {},
   "outputs": [
    {
     "name": "stdout",
     "output_type": "stream",
     "text": [
      "  2           0 SETUP_LOOP              20 (to 22)\n",
      "              2 LOAD_GLOBAL              0 (nucleotides)\n",
      "              4 GET_ITER\n",
      "        >>    6 FOR_ITER                12 (to 20)\n",
      "              8 STORE_FAST               0 (n)\n",
      "\n",
      "  3          10 LOAD_GLOBAL              1 (print)\n",
      "             12 LOAD_FAST                0 (n)\n",
      "             14 CALL_FUNCTION            1\n",
      "             16 POP_TOP\n",
      "             18 JUMP_ABSOLUTE            6\n",
      "        >>   20 POP_BLOCK\n",
      "        >>   22 LOAD_CONST               0 (None)\n",
      "             24 RETURN_VALUE\n"
     ]
    }
   ],
   "source": [
    "dis.dis(print_nucleotides)"
   ]
  },
  {
   "cell_type": "markdown",
   "metadata": {},
   "source": [
    "Если это сложно, то for приблизительно можно записать вот так (только приблизительно, по скорости и красоте это проигрывает)"
   ]
  },
  {
   "cell_type": "code",
   "execution_count": 18,
   "metadata": {},
   "outputs": [
    {
     "name": "stdout",
     "output_type": "stream",
     "text": [
      "A\n",
      "T\n",
      "G\n",
      "C\n"
     ]
    }
   ],
   "source": [
    "def print_nucleotides_trivial():\n",
    "    nucleotides_iterator = iter(nucleotides)\n",
    "    while True:\n",
    "        try:\n",
    "            value = next(nucleotides_iterator)\n",
    "        except StopIteration:\n",
    "            break\n",
    "        print (value)\n",
    "\n",
    "print_nucleotides_trivial()"
   ]
  },
  {
   "cell_type": "code",
   "execution_count": 28,
   "metadata": {
    "collapsed": true
   },
   "outputs": [],
   "source": [
    "COMPLEMENT_TABLE = {\"A\" : \"T\", \"C\" : \"G\", \"T\" : \"A\", \"G\" : \"C\"}"
   ]
  },
  {
   "cell_type": "markdown",
   "metadata": {},
   "source": [
    "Что будет выдавать нам итератор по словарю?"
   ]
  },
  {
   "cell_type": "code",
   "execution_count": 29,
   "metadata": {},
   "outputs": [
    {
     "name": "stdout",
     "output_type": "stream",
     "text": [
      "A\n",
      "C\n",
      "T\n",
      "G\n"
     ]
    }
   ],
   "source": [
    "dt_iterator = iter(COMPLEMENT_TABLE)\n",
    "while True:\n",
    "    try:\n",
    "        value = next(dt_iterator)\n",
    "    except StopIteration:\n",
    "        break\n",
    "    print (value)\n"
   ]
  },
  {
   "cell_type": "markdown",
   "metadata": {},
   "source": [
    "Итераторы и их подкласс - **генераторы**, которые мы разберем ниже, позволяют нам работать с \"потоками данных\". \n",
    "\n",
    "Простейшими примерами потоков данных могут служить сетевой трафик, сигнал какого-нибудь датчика или, скажем, биржевые котировки в реальном времени. \n",
    "\n",
    "Когда мы набираем в командной строке что-то наподобие «cat file.txt | sed s/foo/bar/g», то происходит именно манипуляция потоком данных, который с помощью «конвейера» в виде вертикальной черты передается от **stdout** команды cat на **stdin** команды sed.\n",
    "\n",
    "\n",
    "Мы все чаще встречаемся с тем, что нам надо анализировать или обрабатывать на лету эти самые потоки данных. Причем чем дальше, тем больше таких случаев, причем обычно не можем позволить хранить в памяти все данные и/или результаты их промежуточной обработки. Здесь и приходят на помощь итераторы, и, в особенности, **генераторы**. \n",
    "\n",
    "\n",
    "\n"
   ]
  },
  {
   "cell_type": "markdown",
   "metadata": {},
   "source": [
    "## Reduce*\n",
    "Кроме map и filter, есть reduce, который, из-за большого риска возникновения нечитаемого кода, был вынесен в functools"
   ]
  },
  {
   "cell_type": "code",
   "execution_count": 55,
   "metadata": {
    "collapsed": true
   },
   "outputs": [],
   "source": [
    "from functools import reduce"
   ]
  },
  {
   "cell_type": "code",
   "execution_count": 64,
   "metadata": {},
   "outputs": [
    {
     "name": "stdout",
     "output_type": "stream",
     "text": [
      "120\n",
      "120\n"
     ]
    }
   ],
   "source": [
    "fact5 = reduce(lambda x,y : x * y, range(1, 6))\n",
    "print (fact5)\n",
    "\n",
    "\n",
    "product = lambda *args :reduce(lambda x, y : x * y, *args)\n",
    "print (product(range(1, 6)))"
   ]
  },
  {
   "cell_type": "markdown",
   "metadata": {},
   "source": [
    "Как он работает? \n",
    "Упрощенно вот так:"
   ]
  },
  {
   "cell_type": "code",
   "execution_count": 84,
   "metadata": {
    "collapsed": true
   },
   "outputs": [],
   "source": [
    "def handmade_reduce(func, iterable, initial=None): # func should accept two positional arguments\n",
    "    if initial is None:\n",
    "        iterator = iter(iterable)\n",
    "        try:\n",
    "            acc = next(iterator) # initial value is the first element of iterable\n",
    "        except Exception as e:\n",
    "            print (\"Reduce can't work with empty sequences\")\n",
    "            raise e\n",
    "    else:\n",
    "        acc = initial\n",
    "        \n",
    "    for value in iterator:\n",
    "        acc = func(acc, value)\n",
    "        \n",
    "    return acc"
   ]
  },
  {
   "cell_type": "code",
   "execution_count": 85,
   "metadata": {},
   "outputs": [
    {
     "data": {
      "text/plain": [
       "120"
      ]
     },
     "execution_count": 85,
     "metadata": {},
     "output_type": "execute_result"
    }
   ],
   "source": [
    "handmade_reduce(lambda x,y : x * y, range(1, 6))"
   ]
  },
  {
   "cell_type": "markdown",
   "metadata": {},
   "source": [
    "\n",
    "### Почему map, filter и reduce хороши в меру? (Как и вообще функциональное программирование в Python)*"
   ]
  },
  {
   "cell_type": "markdown",
   "metadata": {},
   "source": [
    "Как проверить, является ли число 101 простым?\n"
   ]
  },
  {
   "cell_type": "code",
   "execution_count": 115,
   "metadata": {},
   "outputs": [
    {
     "name": "stdout",
     "output_type": "stream",
     "text": [
      "Prime\n"
     ]
    }
   ],
   "source": [
    "if reduce(lambda x, y : 0 if x % y == 0 else x, range(2,101), 101):\n",
    "    print (\"Prime\")\n",
    "else:\n",
    "    print (\"Not prime\")"
   ]
  },
  {
   "cell_type": "markdown",
   "metadata": {},
   "source": [
    "Как обобщить на любое натуральное число"
   ]
  },
  {
   "cell_type": "code",
   "execution_count": 116,
   "metadata": {},
   "outputs": [
    {
     "name": "stdout",
     "output_type": "stream",
     "text": [
      "False False True True\n"
     ]
    }
   ],
   "source": [
    "is_prime = lambda z : False if z == 1 else True if reduce(lambda x,\n",
    "                                                          y : 0 if x % y == 0 else x, range(2,z), z) else False\n",
    "print (is_prime(10), is_prime(1), is_prime(2), is_prime(17))"
   ]
  },
  {
   "cell_type": "markdown",
   "metadata": {},
   "source": [
    "Возьмем только простые числа из первых 1000"
   ]
  },
  {
   "cell_type": "code",
   "execution_count": 117,
   "metadata": {},
   "outputs": [
    {
     "name": "stdout",
     "output_type": "stream",
     "text": [
      "[2, 3, 5, 7, 11, 13, 17, 19, 23, 29]\n"
     ]
    }
   ],
   "source": [
    "primes = list(filter(lambda z : False if z == 1 else True if reduce(lambda x,\n",
    "                                                          y : 0 if x % y == 0 else x, range(2,z), z) else False,\n",
    "            range(1, 1001)))\n",
    "print (primes[0:10])"
   ]
  },
  {
   "cell_type": "markdown",
   "metadata": {},
   "source": [
    "Теперь оставим получим от них квадраты"
   ]
  },
  {
   "cell_type": "code",
   "execution_count": 118,
   "metadata": {},
   "outputs": [
    {
     "name": "stdout",
     "output_type": "stream",
     "text": [
      "[4, 9, 25, 49, 121, 169, 289, 361, 529, 841]\n"
     ]
    }
   ],
   "source": [
    "prime_squares = map(lambda x : x ** 2, (filter(lambda z : False if z == 1 else True if reduce(lambda x,\n",
    "                                                          y : 0 if x % y == 0 else x, range(2,z), z) else False,\n",
    "            range(1, 1001))))\n",
    "print (list(prime_squares)[0:10])"
   ]
  },
  {
   "cell_type": "markdown",
   "metadata": {},
   "source": [
    "И оставим их них те, что на втором месте имеют 2"
   ]
  },
  {
   "cell_type": "code",
   "execution_count": 119,
   "metadata": {},
   "outputs": [
    {
     "name": "stdout",
     "output_type": "stream",
     "text": [
      "[25, 121, 529, 3721, 5329, 7921, 16129, 19321, 29929, 44521]\n"
     ]
    }
   ],
   "source": [
    "prime_squares_filtered = filter(lambda x : (x % 100) // 10  == 2, map(lambda x : x ** 2, (filter(lambda z : False if z == 1 else True if reduce(lambda x,\n",
    "                            y : 0 if x % y == 0 else x, range(2,z), z) else False, range(1, 1001)))) )\n",
    "\n",
    "print (list(prime_squares_filtered)[0:10])"
   ]
  },
  {
   "cell_type": "markdown",
   "metadata": {},
   "source": [
    "## Использование списочных сокрашений vs map, filter"
   ]
  },
  {
   "cell_type": "markdown",
   "metadata": {},
   "source": [
    " Допустим, мы хотим перевести каждую строку списка в уникальный, только ей соответствующий номер. Очевидно, для этого нужно использовать словарь"
   ]
  },
  {
   "cell_type": "code",
   "execution_count": 27,
   "metadata": {
    "collapsed": true
   },
   "outputs": [],
   "source": [
    "seq_arr = [\"\".join([random.choice(\"ATGC\") for i in range(3)]) for i in range(100000) ] # we use nested generators here"
   ]
  },
  {
   "cell_type": "code",
   "execution_count": 28,
   "metadata": {},
   "outputs": [
    {
     "name": "stdout",
     "output_type": "stream",
     "text": [
      "[0, 1, 2, 3, 4, 5, 6, 7, 8, 9]\n"
     ]
    }
   ],
   "source": [
    "def variant1(seq_arr):\n",
    "    mapping = {}\n",
    "    seq_map = []\n",
    "    for s in seq_arr:\n",
    "        if s not in mapping:\n",
    "            mapping[s] = len(mapping)\n",
    "        seq_map.append(mapping[s])\n",
    "    return seq_map\n",
    "    \n",
    "print (variant1(seq_arr)[0:10])"
   ]
  },
  {
   "cell_type": "markdown",
   "metadata": {},
   "source": [
    "Или, с использованием defaultdict"
   ]
  },
  {
   "cell_type": "code",
   "execution_count": 29,
   "metadata": {},
   "outputs": [
    {
     "name": "stdout",
     "output_type": "stream",
     "text": [
      "[0, 1, 2, 3, 4, 5, 6, 7, 8, 9]\n"
     ]
    }
   ],
   "source": [
    "from collections import defaultdict\n",
    "\n",
    "def variant2(seq_arr): \n",
    "    mapping = defaultdict(lambda : len(mapping))\n",
    "    seq_map = []\n",
    "    for s in seq_arr:\n",
    "        seq_map.append(mapping[s])\n",
    "        \n",
    "    return seq_map\n",
    "    \n",
    "print (variant2(seq_arr)[0:10])"
   ]
  },
  {
   "cell_type": "markdown",
   "metadata": {},
   "source": [
    "Задача - перевести список в список. Хотелось бы применить здесь map или list comprehension. Но как?\n"
   ]
  },
  {
   "cell_type": "code",
   "execution_count": 251,
   "metadata": {
    "scrolled": true
   },
   "outputs": [
    {
     "name": "stdout",
     "output_type": "stream",
     "text": [
      "[0, 1, 2, 3, 4, 5, 2, 6, 7, 8]\n"
     ]
    }
   ],
   "source": [
    "def variant3(seq_arr):\n",
    "    mapping = defaultdict(lambda : len(mapping))\n",
    "    seq_map = list(map(lambda x : mapping[x], seq_arr))\n",
    "    return seq_map\n",
    "    \n",
    "print (variant3(seq_arr)[0:10])"
   ]
  },
  {
   "cell_type": "code",
   "execution_count": 252,
   "metadata": {},
   "outputs": [
    {
     "name": "stdout",
     "output_type": "stream",
     "text": [
      "[0, 1, 2, 3, 4, 5, 2, 6, 7, 8]\n"
     ]
    }
   ],
   "source": [
    "def variant4(seq_arr):\n",
    "    mapping = defaultdict(lambda : len(mapping))\n",
    "    seq_map = [mapping[s] for s in seq_arr]\n",
    "    return seq_map\n",
    "print (variant4(seq_arr)[0:10])"
   ]
  },
  {
   "cell_type": "code",
   "execution_count": 253,
   "metadata": {},
   "outputs": [
    {
     "name": "stdout",
     "output_type": "stream",
     "text": [
      "13 ms ± 576 µs per loop (mean ± std. dev. of 7 runs, 100 loops each)\n",
      "13.2 ms ± 232 µs per loop (mean ± std. dev. of 7 runs, 100 loops each)\n",
      "12.1 ms ± 185 µs per loop (mean ± std. dev. of 7 runs, 100 loops each)\n",
      "5.58 ms ± 118 µs per loop (mean ± std. dev. of 7 runs, 100 loops each)\n"
     ]
    }
   ],
   "source": [
    "%timeit variant1(seq_arr)\n",
    "%timeit variant2(seq_arr)\n",
    "%timeit variant3(seq_arr)\n",
    "%timeit variant4(seq_arr)"
   ]
  },
  {
   "cell_type": "markdown",
   "metadata": {},
   "source": [
    "# Генераторы. Базовый уровень\n",
    "\n",
    "Что будет, если мы попытаемся сделать кортеж по аналогии со списком? (просто поменяв скобочки)"
   ]
  },
  {
   "cell_type": "code",
   "execution_count": 265,
   "metadata": {},
   "outputs": [
    {
     "name": "stdout",
     "output_type": "stream",
     "text": [
      "<generator object <genexpr> at 0x10f139620> <class 'generator'>\n"
     ]
    }
   ],
   "source": [
    "tuple_question = (x ** 2 for x in range(10))\n",
    "print (tuple_question, type(tuple_question))"
   ]
  },
  {
   "cell_type": "markdown",
   "metadata": {},
   "source": [
    "Какой-то неправильный кортеж"
   ]
  },
  {
   "cell_type": "code",
   "execution_count": 267,
   "metadata": {},
   "outputs": [
    {
     "ename": "TypeError",
     "evalue": "'generator' object is not subscriptable",
     "output_type": "error",
     "traceback": [
      "\u001b[0;31m---------------------------------------------------------------------------\u001b[0m",
      "\u001b[0;31mTypeError\u001b[0m                                 Traceback (most recent call last)",
      "\u001b[0;32m<ipython-input-267-a953629317fd>\u001b[0m in \u001b[0;36m<module>\u001b[0;34m()\u001b[0m\n\u001b[0;32m----> 1\u001b[0;31m \u001b[0mtuple_question\u001b[0m\u001b[0;34m[\u001b[0m\u001b[0;36m0\u001b[0m\u001b[0;34m]\u001b[0m\u001b[0;34m\u001b[0m\u001b[0m\n\u001b[0m",
      "\u001b[0;31mTypeError\u001b[0m: 'generator' object is not subscriptable"
     ]
    }
   ],
   "source": [
    "tuple_question[0]"
   ]
  },
  {
   "cell_type": "markdown",
   "metadata": {},
   "source": [
    "![generator](i-am-a-generator.jpg)"
   ]
  },
  {
   "cell_type": "markdown",
   "metadata": {},
   "source": [
    "Объект, который мы получили называется генератор. В чем отличие его от списка/кортежа ? \n",
    "\n",
    "По нему точно так же можно итерироваться "
   ]
  },
  {
   "cell_type": "code",
   "execution_count": 270,
   "metadata": {},
   "outputs": [
    {
     "name": "stdout",
     "output_type": "stream",
     "text": [
      "0\n",
      "1\n",
      "4\n",
      "9\n",
      "16\n"
     ]
    }
   ],
   "source": [
    "squares = (x ** 2 for x in range(5))\n",
    "for s in squares:\n",
    "    print (s)"
   ]
  },
  {
   "cell_type": "markdown",
   "metadata": {},
   "source": [
    "Один раз :("
   ]
  },
  {
   "cell_type": "code",
   "execution_count": 271,
   "metadata": {
    "collapsed": true
   },
   "outputs": [],
   "source": [
    "for s in squares:\n",
    "    print (s)"
   ]
  },
  {
   "cell_type": "code",
   "execution_count": 34,
   "metadata": {
    "collapsed": true
   },
   "outputs": [],
   "source": [
    "s_error = (1/x for x in range(10,-1, -1))\n"
   ]
  },
  {
   "cell_type": "code",
   "execution_count": 35,
   "metadata": {},
   "outputs": [
    {
     "name": "stdout",
     "output_type": "stream",
     "text": [
      "0.1\n",
      "0.1111111111111111\n",
      "0.125\n",
      "0.14285714285714285\n",
      "0.16666666666666666\n",
      "0.2\n",
      "0.25\n",
      "0.3333333333333333\n",
      "0.5\n",
      "1.0\n"
     ]
    },
    {
     "ename": "ZeroDivisionError",
     "evalue": "division by zero",
     "output_type": "error",
     "traceback": [
      "\u001b[1;31m---------------------------------------------------------------------------\u001b[0m",
      "\u001b[1;31mZeroDivisionError\u001b[0m                         Traceback (most recent call last)",
      "\u001b[1;32m<ipython-input-35-c3f547f845be>\u001b[0m in \u001b[0;36m<module>\u001b[1;34m()\u001b[0m\n\u001b[1;32m----> 1\u001b[1;33m \u001b[1;32mfor\u001b[0m \u001b[0ms\u001b[0m \u001b[1;32min\u001b[0m \u001b[0ms_error\u001b[0m\u001b[1;33m:\u001b[0m\u001b[1;33m\u001b[0m\u001b[0m\n\u001b[0m\u001b[0;32m      2\u001b[0m     \u001b[0mprint\u001b[0m\u001b[1;33m(\u001b[0m\u001b[0ms\u001b[0m\u001b[1;33m)\u001b[0m\u001b[1;33m\u001b[0m\u001b[0m\n",
      "\u001b[1;32m<ipython-input-34-f0dd5faa398d>\u001b[0m in \u001b[0;36m<genexpr>\u001b[1;34m(.0)\u001b[0m\n\u001b[1;32m----> 1\u001b[1;33m \u001b[0ms_error\u001b[0m \u001b[1;33m=\u001b[0m \u001b[1;33m(\u001b[0m\u001b[1;36m1\u001b[0m\u001b[1;33m/\u001b[0m\u001b[0mx\u001b[0m \u001b[1;32mfor\u001b[0m \u001b[0mx\u001b[0m \u001b[1;32min\u001b[0m \u001b[0mrange\u001b[0m\u001b[1;33m(\u001b[0m\u001b[1;36m10\u001b[0m\u001b[1;33m,\u001b[0m\u001b[1;33m-\u001b[0m\u001b[1;36m1\u001b[0m\u001b[1;33m,\u001b[0m \u001b[1;33m-\u001b[0m\u001b[1;36m1\u001b[0m\u001b[1;33m)\u001b[0m\u001b[1;33m)\u001b[0m\u001b[1;33m\u001b[0m\u001b[0m\n\u001b[0m",
      "\u001b[1;31mZeroDivisionError\u001b[0m: division by zero"
     ]
    }
   ],
   "source": [
    "for s in s_error:\n",
    "    print(s)"
   ]
  },
  {
   "cell_type": "markdown",
   "metadata": {},
   "source": [
    "Генератор - один из способов реализации концепции **ленивых вычислений**. Мы пишем, что за вычисления нужно осуществить, а осуществлены они будут только тогда, когда это непосредственно потребуется.\n",
    "Таким образом в памяти будет храниться лишь минимум информации, необходимой для осуществления этого вычисления."
   ]
  },
  {
   "cell_type": "code",
   "execution_count": 310,
   "metadata": {},
   "outputs": [
    {
     "name": "stdout",
     "output_type": "stream",
     "text": [
      "33.2 ms ± 1.48 ms per loop (mean ± std. dev. of 7 runs, 10 loops each)\n"
     ]
    }
   ],
   "source": [
    "%%timeit\n",
    "squares = [x ** 2 for x in range(100000)]\n",
    "for s in squares:\n",
    "    if s % 99000000000 == 0:\n",
    "        pass"
   ]
  },
  {
   "cell_type": "code",
   "execution_count": 311,
   "metadata": {},
   "outputs": [
    {
     "name": "stdout",
     "output_type": "stream",
     "text": [
      "37.7 ms ± 524 µs per loop (mean ± std. dev. of 7 runs, 10 loops each)\n"
     ]
    }
   ],
   "source": [
    "%%timeit\n",
    "squares_generator = (x ** 2 for x in range(100000))\n",
    "for s in squares_generator:\n",
    "    if s % 99000000000 == 0:\n",
    "        pass"
   ]
  },
  {
   "cell_type": "markdown",
   "metadata": {},
   "source": [
    "По скорости нет разности. Даже в случае с генератором чуть медленнее (это лишь пока мы не уперлись в лимит по памяти)\n",
    "\n",
    "Для использования memory_profiler надо выполнить следующие команды\n",
    "\n",
    "**conda install -c chroxvi memory_profiler**\n",
    "\n",
    "**conda install -c anaconda psutil**"
   ]
  },
  {
   "cell_type": "code",
   "execution_count": 2,
   "metadata": {
    "collapsed": true
   },
   "outputs": [],
   "source": [
    "%load_ext memory_profiler"
   ]
  },
  {
   "cell_type": "code",
   "execution_count": 2,
   "metadata": {},
   "outputs": [
    {
     "name": "stdout",
     "output_type": "stream",
     "text": [
      "0\n",
      "10890000000000\n",
      "43560000000000\n",
      "98010000000000\n",
      "peak memory: 428.41 MiB, increment: 386.96 MiB\n"
     ]
    }
   ],
   "source": [
    "%%memit\n",
    "squares = [x ** 2 for x in range(10000000)]\n",
    "for s in squares:\n",
    "    if s % 99000000000 == 0:\n",
    "        print (s)\n",
    "    \n"
   ]
  },
  {
   "cell_type": "code",
   "execution_count": 3,
   "metadata": {
    "collapsed": true
   },
   "outputs": [],
   "source": [
    "del squares"
   ]
  },
  {
   "cell_type": "code",
   "execution_count": 4,
   "metadata": {},
   "outputs": [
    {
     "name": "stdout",
     "output_type": "stream",
     "text": [
      "0\n",
      "10890000000000\n",
      "43560000000000\n",
      "98010000000000\n",
      "peak memory: 46.16 MiB, increment: 0.02 MiB\n"
     ]
    }
   ],
   "source": [
    "%%memit\n",
    "squares_generator = (x ** 2 for x in range(10000000))\n",
    "for s in squares_generator:\n",
    "    if s % 99000000000 == 0:\n",
    "        print (s)"
   ]
  },
  {
   "cell_type": "markdown",
   "metadata": {},
   "source": [
    "## Генераторы в генераторах"
   ]
  },
  {
   "cell_type": "markdown",
   "metadata": {},
   "source": [
    "Генераторы можно использовать при создании других генераторов. При этом ни на одном из этапов мы не разворачиваем в памяти весь требуемый список, потому использование памяти минимально"
   ]
  },
  {
   "cell_type": "code",
   "execution_count": 62,
   "metadata": {},
   "outputs": [
    {
     "name": "stdout",
     "output_type": "stream",
     "text": [
      "peak memory: 60.84 MiB, increment: 0.00 MiB\n"
     ]
    }
   ],
   "source": [
    "%%memit\n",
    "squares = (x ** 2 for x in range(1000))\n",
    "squares_with_1_on_2 = (x for x in squares if (x % 100) // 10 == 1)\n",
    "squares_with_1_on_2_div7 = (x for x in squares_with_1_on_2 if x % 7 == 0)\n",
    "squares_with_1_on_2_div7_add3 = map(lambda x : x + 3, squares_with_1_on_2_div7)\n",
    "\n",
    "sm = sum(squares_with_1_on_2_div7_add3)"
   ]
  },
  {
   "cell_type": "markdown",
   "metadata": {},
   "source": [
    "Генераторы - одно из мощнейших средств Python. Они позволяют, единожды написав какие-то обработчики данных, \n",
    "дальше использовать их, соединять друг с другом и тд без дополнительных затрат по памяти.\n",
    "\n",
    "Более близкий пример - посчитать число разных кодонов в нуклеотидной последовательности, кодирующей белок"
   ]
  },
  {
   "cell_type": "markdown",
   "metadata": {},
   "source": [
    "Создаем строку для тестов"
   ]
  },
  {
   "cell_type": "code",
   "execution_count": 77,
   "metadata": {
    "collapsed": true
   },
   "outputs": [],
   "source": [
    "start_codon = 'AUG'\n",
    "stop_codons = ['UAA','UAG', 'UGA']\n",
    "coding_codons = list(set(CODON_TABLE) - set(stop_codons))\n",
    "seq = start_codon +  \"\".join(random.choice(coding_codons) for _ in range(1000)) + random.choice(stop_codons)"
   ]
  },
  {
   "cell_type": "markdown",
   "metadata": {},
   "source": [
    "Лениво бьем строку на триплеты, потом лениво же каждый триплет переводим в аминокислоту,\n",
    "а затем этот генератор передаем Counter"
   ]
  },
  {
   "cell_type": "code",
   "execution_count": 78,
   "metadata": {},
   "outputs": [
    {
     "name": "stdout",
     "output_type": "stream",
     "text": [
      "[('L', 100), ('R', 97), ('S', 93), ('V', 67), ('T', 67), ('G', 67), ('P', 65), ('A', 56), ('I', 55), ('D', 38), ('Y', 36), ('N', 34), ('K', 33), ('E', 33), ('H', 33), ('Q', 32), ('C', 31), ('F', 29), ('M', 19), ('W', 16), ('*', 1)]\n"
     ]
    }
   ],
   "source": [
    "codons = (seq[i:i+3] for i in range(0, len(seq), 3))\n",
    "aminoacids = (CODON_TABLE[c] for c in codons)\n",
    "cnt = Counter(aminoacids)\n",
    "print (cnt.most_common())"
   ]
  },
  {
   "cell_type": "markdown",
   "metadata": {},
   "source": [
    "## Встроенные функции\n",
    "\n",
    "Для работы с итерируемыми объектами, частности, с генераторами, существует множество встроенных функций\n",
    "\n",
    "### enumerate\n",
    "\n",
    "принимает итератор и возвращает итератор, который возвращает кортежи из (индекс, элемент_исходного итератора)"
   ]
  },
  {
   "cell_type": "code",
   "execution_count": null,
   "metadata": {
    "collapsed": true
   },
   "outputs": [],
   "source": [
    "?enumerate"
   ]
  },
  {
   "cell_type": "code",
   "execution_count": 84,
   "metadata": {},
   "outputs": [
    {
     "name": "stdout",
     "output_type": "stream",
     "text": [
      "(0, 'K')\n",
      "0 K\n",
      "1 N\n",
      "2 K\n",
      "3 N\n",
      "4 T\n"
     ]
    }
   ],
   "source": [
    "aminoacids = CODON_TABLE.values()\n",
    "\n",
    "print (next(enumerate(aminoacids)))\n",
    "\n",
    "for ind, ac in enumerate(aminoacids):\n",
    "    print (ind, ac)\n",
    "    if ind == 4:\n",
    "        break\n"
   ]
  },
  {
   "cell_type": "markdown",
   "metadata": {},
   "source": [
    "Можно задать начало отчета (удобно, когда хочется иметь нумерацию с 1, например)"
   ]
  },
  {
   "cell_type": "code",
   "execution_count": 85,
   "metadata": {},
   "outputs": [
    {
     "name": "stdout",
     "output_type": "stream",
     "text": [
      "1 K\n",
      "2 N\n",
      "3 K\n",
      "4 N\n"
     ]
    }
   ],
   "source": [
    "start = 1\n",
    "for ind, ac in enumerate(aminoacids, start):\n",
    "    print (ind, ac)\n",
    "    if ind == 4:\n",
    "        break"
   ]
  },
  {
   "cell_type": "markdown",
   "metadata": {},
   "source": [
    "### zip \n",
    "принимает итераторы, возвращает кортежи, где i элемент кортежа происходит из i итератора. "
   ]
  },
  {
   "cell_type": "code",
   "execution_count": 89,
   "metadata": {},
   "outputs": [
    {
     "name": "stdout",
     "output_type": "stream",
     "text": [
      "(0, 3)\n",
      "(1, 4)\n",
      "(2, 5)\n",
      "3 6\n",
      "4 7\n",
      "5 8\n"
     ]
    }
   ],
   "source": [
    "for t in zip(range(3), range(3, 6)):\n",
    "    print (t)\n",
    "    \n",
    "for i, j in zip(range(3, 6), range(6, 9)):\n",
    "    print (i, j)    "
   ]
  },
  {
   "cell_type": "markdown",
   "metadata": {},
   "source": [
    "С ним надо быть аккуратным. Если какой-то итератор содержит больше значений, чем другие, то эти значения просто не покажутся"
   ]
  },
  {
   "cell_type": "code",
   "execution_count": 90,
   "metadata": {},
   "outputs": [
    {
     "name": "stdout",
     "output_type": "stream",
     "text": [
      "3 6\n",
      "4 7\n",
      "5 8\n"
     ]
    }
   ],
   "source": [
    "for i, j in zip(range(3, 6), range(6, 20)):\n",
    "    print (i, j)   "
   ]
  },
  {
   "cell_type": "markdown",
   "metadata": {},
   "source": [
    "### reversed \n",
    "\n",
    "возвращает итератор, идущий в обратную сторону по контейнеру (как и следует из названия). Полезен, например, тем, что обычно использующийся для списков способ создает новый список, а этот - нет"
   ]
  },
  {
   "cell_type": "code",
   "execution_count": 6,
   "metadata": {},
   "outputs": [],
   "source": [
    "lst = [random.choice(\"ATGC\") for i in range(10000000)]"
   ]
  },
  {
   "cell_type": "code",
   "execution_count": 7,
   "metadata": {},
   "outputs": [
    {
     "name": "stdout",
     "output_type": "stream",
     "text": [
      "peak memory: 194.95 MiB, increment: 76.32 MiB\n"
     ]
    }
   ],
   "source": [
    "%%memit\n",
    "for i in lst[::-1]:\n",
    "    if i == \"G\":\n",
    "        break"
   ]
  },
  {
   "cell_type": "markdown",
   "metadata": {},
   "source": [
    "Можно так"
   ]
  },
  {
   "cell_type": "code",
   "execution_count": 8,
   "metadata": {},
   "outputs": [
    {
     "name": "stdout",
     "output_type": "stream",
     "text": [
      "peak memory: 194.96 MiB, increment: 0.01 MiB\n"
     ]
    }
   ],
   "source": [
    "%%memit\n",
    "for ind in range(len(lst) -1 , -1, -1):\n",
    "    i = lst[ind]\n",
    "    if i == \"G\":\n",
    "        break"
   ]
  },
  {
   "cell_type": "markdown",
   "metadata": {},
   "source": [
    "Более \"Python-way\""
   ]
  },
  {
   "cell_type": "code",
   "execution_count": 9,
   "metadata": {},
   "outputs": [
    {
     "name": "stdout",
     "output_type": "stream",
     "text": [
      "peak memory: 194.98 MiB, increment: 0.00 MiB\n"
     ]
    }
   ],
   "source": [
    "%%memit\n",
    "for i in reversed(lst):\n",
    "    if i == \"G\":\n",
    "        break"
   ]
  },
  {
   "cell_type": "markdown",
   "metadata": {},
   "source": [
    "Пример использования"
   ]
  },
  {
   "cell_type": "code",
   "execution_count": 114,
   "metadata": {
    "collapsed": true
   },
   "outputs": [],
   "source": [
    "def rindex(lst, query):\n",
    "    for ind, val in enumerate(reversed(lst)):\n",
    "        if val == query:\n",
    "            return len(lst) - ind - 1\n",
    "    return -1"
   ]
  },
  {
   "cell_type": "code",
   "execution_count": 117,
   "metadata": {},
   "outputs": [
    {
     "data": {
      "text/plain": [
       "2"
      ]
     },
     "execution_count": 117,
     "metadata": {},
     "output_type": "execute_result"
    }
   ],
   "source": [
    "rindex([1,2,3,10,15,4], 3)"
   ]
  },
  {
   "cell_type": "markdown",
   "metadata": {},
   "source": [
    "# Itertools\n",
    "\n",
    "Много функций для работы с итераторами содержатся и в стандартном пакете"
   ]
  },
  {
   "cell_type": "code",
   "execution_count": 196,
   "metadata": {
    "collapsed": true
   },
   "outputs": [],
   "source": [
    "from itertools import count, cycle, repeat, chain, compress, dropwhile, takewhile, islice"
   ]
  },
  {
   "cell_type": "markdown",
   "metadata": {},
   "source": [
    "### count \n",
    "бесконечный счетчик"
   ]
  },
  {
   "cell_type": "code",
   "execution_count": 130,
   "metadata": {},
   "outputs": [
    {
     "name": "stdout",
     "output_type": "stream",
     "text": [
      "5\n",
      "6\n",
      "7\n",
      "8\n",
      "9\n",
      "10\n",
      "11\n"
     ]
    }
   ],
   "source": [
    "cnt = count(5)\n",
    "for _ in range(7):\n",
    "    print (next(cnt))"
   ]
  },
  {
   "cell_type": "markdown",
   "metadata": {},
   "source": [
    "## cycle \n",
    "бесконечный циклический итератор"
   ]
  },
  {
   "cell_type": "code",
   "execution_count": 131,
   "metadata": {},
   "outputs": [
    {
     "name": "stdout",
     "output_type": "stream",
     "text": [
      "0\n",
      "1\n",
      "2\n",
      "0\n",
      "1\n",
      "2\n",
      "0\n"
     ]
    }
   ],
   "source": [
    "frames = (0, 1, 2)\n",
    "cycle_frames = cycle(frames)\n",
    "for _ in range(7):\n",
    "    print (next(cycle_frames))"
   ]
  },
  {
   "cell_type": "markdown",
   "metadata": {},
   "source": [
    "### repeat \n",
    "просто итератор, который бесконечно возвращает одно и то же значение\n",
    "\n",
    "Документация говорит, что полезно использовать, например, как источник константных значений для zip"
   ]
  },
  {
   "cell_type": "code",
   "execution_count": 132,
   "metadata": {},
   "outputs": [
    {
     "data": {
      "text/plain": [
       "[0, 1, 4, 9, 16, 25, 36, 49, 64, 81]"
      ]
     },
     "execution_count": 132,
     "metadata": {},
     "output_type": "execute_result"
    }
   ],
   "source": [
    "list(map(pow, range(10), repeat(2)))"
   ]
  },
  {
   "cell_type": "markdown",
   "metadata": {},
   "source": [
    "### chain\n",
    "принимает несколько итераторов и объединяет их в один"
   ]
  },
  {
   "cell_type": "code",
   "execution_count": 135,
   "metadata": {},
   "outputs": [
    {
     "name": "stdout",
     "output_type": "stream",
     "text": [
      "5\n",
      "6\n",
      "17\n",
      "18\n"
     ]
    }
   ],
   "source": [
    "for i in chain(range(5,7), range(17, 19)):\n",
    "    print (i)"
   ]
  },
  {
   "cell_type": "markdown",
   "metadata": {},
   "source": [
    "### chain.from_iterable \n",
    "\n",
    "делает то же самое, но принимает один итератор, который возвращает другие итераторы"
   ]
  },
  {
   "cell_type": "code",
   "execution_count": 137,
   "metadata": {},
   "outputs": [
    {
     "name": "stdout",
     "output_type": "stream",
     "text": [
      "1\n",
      "2\n",
      "1\n",
      "2\n",
      "3\n",
      "1\n",
      "2\n",
      "3\n",
      "4\n"
     ]
    }
   ],
   "source": [
    "for i in chain.from_iterable(range(1, x) for x in range(3, 6)):\n",
    "    print (i)"
   ]
  },
  {
   "cell_type": "markdown",
   "metadata": {},
   "source": [
    "### compress\n",
    "\n",
    "принимает на вход итератор со значениями и итератор с булевыми переменными, обозначающими брать нужную переменную или нет"
   ]
  },
  {
   "cell_type": "code",
   "execution_count": 139,
   "metadata": {},
   "outputs": [
    {
     "name": "stdout",
     "output_type": "stream",
     "text": [
      "A\n",
      "G\n"
     ]
    }
   ],
   "source": [
    "for i in compress(\"ATGC\", [True, False, True, False]):\n",
    "    print (i)"
   ]
  },
  {
   "cell_type": "markdown",
   "metadata": {},
   "source": [
    "### dropwhile \n",
    "\n",
    "не берет значения из итератора, пока выполняется условие, после этого возвращает остаток"
   ]
  },
  {
   "cell_type": "code",
   "execution_count": 155,
   "metadata": {},
   "outputs": [
    {
     "data": {
      "text/plain": [
       "[255346, 263810, 272459, 281295, 290320, 299536, 308945, 318549]"
      ]
     },
     "execution_count": 155,
     "metadata": {},
     "output_type": "execute_result"
    }
   ],
   "source": [
    "list(dropwhile(lambda y : y < 255000, (sum(i** 2 for i in range(0, x)) for x in range(5, 100)) ))"
   ]
  },
  {
   "cell_type": "markdown",
   "metadata": {},
   "source": [
    "### takewhile\n",
    "\n",
    "наоборот, берет значения пока выполняется условие"
   ]
  },
  {
   "cell_type": "code",
   "execution_count": 159,
   "metadata": {},
   "outputs": [
    {
     "data": {
      "text/plain": [
       "[30, 55, 91, 140]"
      ]
     },
     "execution_count": 159,
     "metadata": {},
     "output_type": "execute_result"
    }
   ],
   "source": [
    "list(takewhile(lambda y : y < 150, (sum(i** 2 for i in range(0, x)) for x in range(5, 100)) ))"
   ]
  },
  {
   "cell_type": "markdown",
   "metadata": {},
   "source": [
    "### islice  \n",
    "\n",
    "взять срез по итератору"
   ]
  },
  {
   "cell_type": "code",
   "execution_count": 291,
   "metadata": {},
   "outputs": [
    {
     "name": "stdout",
     "output_type": "stream",
     "text": [
      "[0, 1, 4]\n",
      "[9, 16, 25]\n"
     ]
    }
   ],
   "source": [
    "a = (x ** 2 for x in range(10))\n",
    "print (list(islice(a, 0, 3)))\n",
    "print (list(islice(a, 0, 3)))"
   ]
  },
  {
   "cell_type": "markdown",
   "metadata": {},
   "source": [
    "Отдельно стоят итераторы, позволяющие делать всякие комбинаторные вещи"
   ]
  },
  {
   "cell_type": "code",
   "execution_count": 161,
   "metadata": {
    "collapsed": true
   },
   "outputs": [],
   "source": [
    "from itertools import product, combinations, permutations, combinations_with_replacement"
   ]
  },
  {
   "cell_type": "markdown",
   "metadata": {},
   "source": [
    "### product \n",
    "декартово произведение"
   ]
  },
  {
   "cell_type": "code",
   "execution_count": 165,
   "metadata": {},
   "outputs": [
    {
     "data": {
      "text/plain": [
       "[(0, 0), (0, 1), (0, 2), (1, 0), (1, 1), (1, 2), (2, 0), (2, 1), (2, 2)]"
      ]
     },
     "execution_count": 165,
     "metadata": {},
     "output_type": "execute_result"
    }
   ],
   "source": [
    "list(product(range(3), range(3))) "
   ]
  },
  {
   "cell_type": "markdown",
   "metadata": {},
   "source": [
    "### combinations"
   ]
  },
  {
   "cell_type": "code",
   "execution_count": 168,
   "metadata": {},
   "outputs": [
    {
     "data": {
      "text/plain": [
       "[('A', 'T'), ('A', 'G'), ('A', 'C'), ('T', 'G'), ('T', 'C'), ('G', 'C')]"
      ]
     },
     "execution_count": 168,
     "metadata": {},
     "output_type": "execute_result"
    }
   ],
   "source": [
    "list(combinations(\"ATGC\", 2))"
   ]
  },
  {
   "cell_type": "markdown",
   "metadata": {},
   "source": [
    "и т.д:)"
   ]
  },
  {
   "cell_type": "markdown",
   "metadata": {},
   "source": [
    "# Многострочные генераторы"
   ]
  },
  {
   "cell_type": "markdown",
   "metadata": {},
   "source": [
    "До данного момента мы с вами писали только однострочные генераторы. Одна часто хочется написать какую-то сложную функцию, которая работает по тому же принципу, тратя мало памяти на вычисления. Для этого существует специальный синтаксис - **yield**\n",
    "\n",
    "\n",
    "На самом деле все генераторы — это функции, возвращающие следующий элемент тогда, когда он запрашивается. Генератор оперирует не абстрактными элементами, а блоками кода. \n",
    "\n",
    "Итератор по умолчанию будет перебирать элементы в контейнере, то генератор будет выполнять код, пока не выполнится какое-нибудь конкретное условие возврата. Для создания генераторов используют функции, содержащие в своем теле ключевое слово «yield» — такие функции возвращают объект-генератор.\n",
    "\n",
    "Напишем, например, генератор чисел Фибоначчи"
   ]
  },
  {
   "cell_type": "code",
   "execution_count": 39,
   "metadata": {
    "collapsed": true
   },
   "outputs": [],
   "source": [
    "def fibonacci_gen():\n",
    "    f0, f1 = 0, 1\n",
    "    while True:\n",
    "        yield f0\n",
    "        f0, f1 = f1, f0 + f1"
   ]
  },
  {
   "cell_type": "code",
   "execution_count": 40,
   "metadata": {},
   "outputs": [
    {
     "name": "stdout",
     "output_type": "stream",
     "text": [
      "<generator object fibonacci_gen at 0x05C5A120> <class 'generator'>\n",
      "0\n",
      "1\n",
      "1\n",
      "2\n",
      "3\n"
     ]
    }
   ],
   "source": [
    "fib_gen = fibonacci_gen()\n",
    "print(fib_gen, type(fib_gen))\n",
    "for i in range(5):\n",
    "    print (next(fib_gen))"
   ]
  },
  {
   "cell_type": "code",
   "execution_count": 174,
   "metadata": {},
   "outputs": [
    {
     "data": {
      "text/plain": [
       "[0, 1, 1, 2, 3, 5, 8, 13, 21, 34, 55, 89]"
      ]
     },
     "execution_count": 174,
     "metadata": {},
     "output_type": "execute_result"
    }
   ],
   "source": [
    "fib_gen = fibonacci_gen()\n",
    "list(takewhile(lambda x : x < 100, fib_gen))"
   ]
  },
  {
   "cell_type": "markdown",
   "metadata": {},
   "source": [
    " Ключевым моментом для понимания работы генераторов является то, при вызове **yield** функция не прекращает свою работу, а “замораживается” до очередной итерации, запускаемой функцией next(). Следующий вызов к ней \"пробуждает функцию\", она делает еще одну итерацию до yield  и снова замирает, возвращая значение (или мы доходим до конца функции и ничего не происходит)\n",
    "\n",
    "Напишем генератор, который будет читать fasta-file по одной записи за раз\n"
   ]
  },
  {
   "cell_type": "code",
   "execution_count": 64,
   "metadata": {
    "collapsed": true
   },
   "outputs": [],
   "source": [
    "def parse_fasta(fasta_path):\n",
    "    with open(fasta_path, \"r\") as fasta_file:\n",
    "        header = fasta_file.readline()\n",
    "        if not header: # empty file\n",
    "            return\n",
    "        \n",
    "        \n",
    "        fields = header[1:].strip().split(\" \", 1)\n",
    "        if len(fields) == 1:\n",
    "            name, desc = fields[0], \"\"\n",
    "        else:\n",
    "            name, desc = fields\n",
    "        seq = []\n",
    "        \n",
    "        for line in fasta_file:\n",
    "            line = line.strip()\n",
    "            if line.startswith(\">\"):\n",
    "                seq = \"\".join(seq)\n",
    "                yield (name, desc, seq)\n",
    "                fields = line[1:].strip().split(\" \", 1)\n",
    "                if len(fields) == 1:\n",
    "                    name, desc = fields[0], \"\"\n",
    "                else:\n",
    "                    name, desc = fields\n",
    "                seq = []\n",
    "            else:\n",
    "                seq.append(line)\n",
    "        # last sequence\n",
    "        seq = \"\".join(seq)\n",
    "        yield (name, desc, seq)"
   ]
  },
  {
   "cell_type": "code",
   "execution_count": 67,
   "metadata": {},
   "outputs": [
    {
     "name": "stdout",
     "output_type": "stream",
     "text": [
      "('example1', '', 'ATGTAAATGTAA')\n",
      "('example2', '', 'ATGAGAGAGAGAGGTGGTGAGGGGCGCGCGCG')\n",
      "('example3', 'desc', 'ATATGATGCCTAGCACTACGATCACGAC')\n",
      "('example4', 'desc4', 'ATTAGAATAGAGATAT')\n"
     ]
    }
   ],
   "source": [
    "fasta_it = parse_fasta(\"example.fasta\")\n",
    "for seqinfo in fasta_it:\n",
    "    print (seqinfo)"
   ]
  },
  {
   "cell_type": "markdown",
   "metadata": {},
   "source": [
    "Можно облагородить нашу функцию, убрав разбор названия последовательности в отдельную функцию"
   ]
  },
  {
   "cell_type": "code",
   "execution_count": 46,
   "metadata": {
    "collapsed": true
   },
   "outputs": [],
   "source": [
    "def parse_fasta_header(header):\n",
    "    fields = header[1:].strip().split(\" \", 1)\n",
    "    if len(fields) == 1:\n",
    "        name, desc = fields[0], \"\"\n",
    "    else:\n",
    "        name, desc = fields\n",
    "    return name, desc\n",
    "    \n",
    "    \n",
    "def parse_fasta(fasta_path):\n",
    "    with open(fasta_path, \"r\") as fasta_file:\n",
    "        header = fasta_file.readline()\n",
    "        if not header: # empty file\n",
    "            print(\"FINISHED\")\n",
    "            return\n",
    "        \n",
    "        name, desc = parse_fasta_header(header)\n",
    "        seq = []\n",
    "        \n",
    "        for line in fasta_file:\n",
    "            line = line.strip()\n",
    "            if line.startswith(\">\"):\n",
    "                seq = \"\".join(seq)\n",
    "                yield (name, desc, seq)\n",
    "                name, desc = parse_fasta_header(line)\n",
    "                seq = []\n",
    "            else:\n",
    "                seq.append(line)\n",
    "        # last sequence\n",
    "        seq = \"\".join(seq)\n",
    "        yield (name, desc, seq)\n",
    "        print(\"FINISHED\")"
   ]
  },
  {
   "cell_type": "code",
   "execution_count": 47,
   "metadata": {},
   "outputs": [
    {
     "name": "stdout",
     "output_type": "stream",
     "text": [
      "('example1', '', 'ATGTAAATGTAA')\n",
      "('example2', '', 'ATGAGAGAGAGAGGTGGTGAGGGGCGCGCGCG')\n",
      "('example3', 'desc', 'ATATGATGCCTAGCACTACGATCACGAC')\n",
      "('example4', 'desc4', 'ATTAGAATAGAGATAT')\n",
      "FINISHED\n"
     ]
    }
   ],
   "source": [
    "fasta_it = parse_fasta(\"example.fasta\")\n",
    "for seqinfo in fasta_it:\n",
    "    print (seqinfo)"
   ]
  },
  {
   "cell_type": "code",
   "execution_count": 48,
   "metadata": {},
   "outputs": [
    {
     "name": "stdout",
     "output_type": "stream",
     "text": [
      "<generator object parse_fasta at 0x05C64B40>\n",
      "FINISHED\n"
     ]
    }
   ],
   "source": [
    "f = open(\"d.fasta\", \"w\")\n",
    "f.close()\n",
    "fasta_it = parse_fasta(\"d.fasta\")\n",
    "print(fasta_it)\n",
    "for seqinfo in fasta_it:\n",
    "    print (seqinfo)"
   ]
  },
  {
   "cell_type": "markdown",
   "metadata": {},
   "source": [
    "Можем написать функцию, которая вернет нам итераторы по всем белкам на данной цепи (будем считать, что белки не могут быть вложенными)*"
   ]
  },
  {
   "cell_type": "code",
   "execution_count": 409,
   "metadata": {
    "collapsed": true
   },
   "outputs": [],
   "source": [
    "def transcribe(n, tr_table={\"A\" : \"A\", \"T\" : \"U\", \"G\" : \"G\", \"C\" : \"C\"}):\n",
    "    return tr_table[n]\n",
    "\n",
    "def iter_seqs(in_file_path):\n",
    "    open_frames = cycle([0,1,2])\n",
    "    proteins = [None, None, None]\n",
    "    with open(path_to_fasta_file) as in_file:\n",
    "        in_file.readline()\n",
    "        letters = chain.from_iterable((line for line in in_file))\n",
    "        dna_nucleotides = filter(lambda x : x != \"\\n\", letters)\n",
    "        nucleotides = map(lambda x : transcribe(x.upper()), dna_nucleotides)\n",
    "        \n",
    "        triplet = \"\".join(islice(nucleotides, 0,3))\n",
    "        \n",
    "        for n in nucleotides:\n",
    "            open_frame = next(open_frames)\n",
    "            cur_prot = proteins[open_frame]\n",
    "            ac = CODON_TABLE[triplet]\n",
    "            if ac == \"*\":\n",
    "                if cur_prot:\n",
    "                    proteins[open_frame] = None\n",
    "                    cur_prot.append(triplet)\n",
    "                    yield cur_prot\n",
    "            elif ac == \"M\" and cur_prot is None:\n",
    "                proteins[open_frame] = [triplet]\n",
    "            elif cur_prot is not None:\n",
    "                cur_prot.append(triplet)\n",
    "            triplet = triplet[1:] + n\n",
    "        "
   ]
  },
  {
   "cell_type": "code",
   "execution_count": 410,
   "metadata": {},
   "outputs": [
    {
     "name": "stdout",
     "output_type": "stream",
     "text": [
      "agcttttcattctgactgcaacgggcaatatgtctctgtgtggattaaaaaaagagtgtctgatagcagcttctgaactg\n",
      "\n"
     ]
    }
   ],
   "source": [
    "with open(path_to_fasta_file) as in_file:\n",
    "    in_file.readline()\n",
    "    print (in_file.readline())"
   ]
  },
  {
   "cell_type": "code",
   "execution_count": 411,
   "metadata": {},
   "outputs": [
    {
     "name": "stdout",
     "output_type": "stream",
     "text": [
      "peak memory: 211.86 MiB, increment: 6.53 MiB\n"
     ]
    },
    {
     "data": {
      "text/plain": [
       "<MemitResult : peak memory: 211.86 MiB, increment: 6.53 MiB>"
      ]
     },
     "execution_count": 411,
     "metadata": {},
     "output_type": "execute_result"
    }
   ],
   "source": [
    "%%memit -i 0.1 -c -o\n",
    "prots_gen = iter_seqs(path_to_fasta_file)\n",
    "codon_usage_cnt = Counter()\n",
    "for prot_codons in prots_gen:\n",
    "    codon_usage_cnt.update(prot_codons)"
   ]
  },
  {
   "cell_type": "code",
   "execution_count": 412,
   "metadata": {},
   "outputs": [
    {
     "name": "stdout",
     "output_type": "stream",
     "text": [
      "[('AUG', 76237), ('CUG', 53366), ('GCG', 46843), ('AAA', 44178), ('CAG', 43663), ('CGC', 40163), ('AUC', 39387), ('GAA', 39022), ('GCC', 38774), ('UUU', 37874), ('GGC', 36781), ('AUU', 36398), ('GAU', 35561), ('ACC', 33525), ('CCG', 33307), ('UUC', 33123), ('AAC', 32709), ('GCA', 32215), ('GUG', 31416), ('AAU', 30160), ('AGC', 29603), ('GGU', 29316), ('UUG', 28908), ('GUU', 28896), ('ACG', 28215), ('UGG', 28080), ('UGC', 26329), ('CGU', 26240), ('GCU', 25462), ('CCA', 24276), ('UUA', 24116), ('CAU', 23838), ('CGG', 23805), ('GUC', 23643), ('AAG', 23143), ('UCG', 23086), ('CAA', 22849), ('UCA', 22774), ('GAC', 22113), ('CAC', 21484), ('AUA', 21081), ('GUA', 19901), ('GAG', 19893), ('UAU', 19577), ('UCC', 18734), ('CUU', 18611), ('UGA', 18311), ('UAC', 17833), ('ACA', 17638), ('CUC', 17231), ('AGU', 16749), ('GGG', 16321), ('ACU', 15999), ('UCU', 15969), ('GGA', 15646), ('UAA', 15573), ('CCC', 15446), ('CGA', 15273), ('UGU', 15088), ('CCU', 14393), ('AGA', 14140), ('AGG', 13613), ('CUA', 7489), ('UAG', 7048)]\n"
     ]
    }
   ],
   "source": [
    "print (codon_usage_cnt.most_common())"
   ]
  },
  {
   "cell_type": "markdown",
   "metadata": {},
   "source": [
    "Что дают генераторы:"
   ]
  },
  {
   "cell_type": "markdown",
   "metadata": {},
   "source": [
    "![generators](generators_pipelines.png)"
   ]
  },
  {
   "cell_type": "markdown",
   "metadata": {},
   "source": [
    "# Lambda-функции и области видимости *\n",
    "\n",
    "Lambda  функции во многом являются полноправными функциями, они могут принимать \\*args, \\*\\*kwargs, как уже было показано. Могут они иметь и аргументы по-умолчанию. Зачем?\n",
    "\n",
    "Что напечатает пример, приведенной ниже?"
   ]
  },
  {
   "cell_type": "code",
   "execution_count": 258,
   "metadata": {},
   "outputs": [
    {
     "name": "stdout",
     "output_type": "stream",
     "text": [
      "14\n",
      "14\n",
      "14\n",
      "14\n",
      "14\n",
      "14\n",
      "14\n",
      "14\n",
      "14\n",
      "14\n"
     ]
    }
   ],
   "source": [
    "funcs_for_very_important_work = { ind : lambda x : x + ind for ind in range(10) }\n",
    "\n",
    "value = 5\n",
    "for func in funcs_for_very_important_work.values():\n",
    "    print (func(value))"
   ]
  },
  {
   "cell_type": "markdown",
   "metadata": {},
   "source": [
    "Дело в том, что при создании lambda-функции в данном примере происходит так называемое \"ленивое вычисление\" для ind, запоминается ссылка на него, а не собственно значение. Из-за этого во всех функциях он становится равен 9 (последнее значение, которое он принимает). Как это избежать? Нужно заставить функцию вычислить значение ind при создании. "
   ]
  },
  {
   "cell_type": "markdown",
   "metadata": {},
   "source": [
    "Наркоманский, хоть и работающий способ. Будем создавать нужную нам lambda функцию еще одной lambda-функцией, которую будем вызывать в момент создания. "
   ]
  },
  {
   "cell_type": "code",
   "execution_count": 259,
   "metadata": {},
   "outputs": [
    {
     "name": "stdout",
     "output_type": "stream",
     "text": [
      "5\n",
      "6\n",
      "7\n",
      "8\n",
      "9\n",
      "10\n",
      "11\n",
      "12\n",
      "13\n",
      "14\n"
     ]
    }
   ],
   "source": [
    "funcs_for_very_important_work = { ind : (lambda i : lambda x : x + i)(ind) for ind in range(10) }\n",
    "\n",
    "value = 5\n",
    "for func in funcs_for_very_important_work.values():\n",
    "    print (func(value))"
   ]
  },
  {
   "cell_type": "markdown",
   "metadata": {},
   "source": [
    "Хоть это и повсеместная практика в языках типа Golang, в Python можно сделать легче. Просто делаем ind аргументом по-умолчанию, он вычислится при создании функции"
   ]
  },
  {
   "cell_type": "code",
   "execution_count": 260,
   "metadata": {},
   "outputs": [
    {
     "name": "stdout",
     "output_type": "stream",
     "text": [
      "5\n",
      "6\n",
      "7\n",
      "8\n",
      "9\n",
      "10\n",
      "11\n",
      "12\n",
      "13\n",
      "14\n"
     ]
    }
   ],
   "source": [
    "funcs_for_very_important_work = { ind : lambda x, i=ind : x + i for ind in range(10) }\n",
    "\n",
    "value = 5\n",
    "for func in funcs_for_very_important_work.values():\n",
    "    print (func(value))"
   ]
  },
  {
   "cell_type": "markdown",
   "metadata": {},
   "source": [
    "# Coroutines*"
   ]
  },
  {
   "cell_type": "markdown",
   "metadata": {},
   "source": [
    "Начиная с Python2.5 появилась возможность не только получать значение из генератора, но и посылать их туда. Это плавно дает возможность использовать генератор как корутину - сопрограмму. То есть можно сделать набор функций, общающихся друг с другом и выдающим в конце результат результат. \n",
    "\n",
    "Общение происходит с помощью функции генератора send. Чтобы иметь возможность посылать корутине значения, ее надо \"запустить\", послав в нее None или применив к ней next.\n",
    "\n",
    "После окончания общения с корутиной ее надо закрыть, при этом в самой корутине можно прописать реакцию на закрытие (с помощью exception, если его не перехватывать, то все равно ничего не произойдет) \n",
    "\n",
    "Например, напишем свой grep"
   ]
  },
  {
   "cell_type": "code",
   "execution_count": 316,
   "metadata": {},
   "outputs": [
    {
     "name": "stdout",
     "output_type": "stream",
     "text": [
      "Looking for python\n",
      "python generators rock!\n",
      "Going away. Goodbye\n"
     ]
    }
   ],
   "source": [
    "def grep_simple(pattern): # also works, but doesn't  Goodbye:(\n",
    "    print (\"Looking for %s\" % pattern)\n",
    "    while True:\n",
    "        line = (yield)\n",
    "        if pattern in line:\n",
    "            print (line)\n",
    "\n",
    "\n",
    "def grep(pattern):\n",
    "    print (\"Looking for %s\" % pattern)\n",
    "    try:\n",
    "        while True:\n",
    "            line = (yield)\n",
    "            if pattern in line:\n",
    "                print (line)\n",
    "    except GeneratorExit:\n",
    "        print (\"Going away. Goodbye\")\n",
    "\n",
    "# Example use\n",
    "#g = grep_simple(\"python\")\n",
    "g = grep(\"python\")\n",
    "g.send(None)\n",
    "g.send(\"Yeah, but no, but yeah, but no\")\n",
    "g.send(\"A series of tubes\")\n",
    "g.send(\"python generators rock!\")\n",
    "g.close() "
   ]
  },
  {
   "cell_type": "markdown",
   "metadata": {},
   "source": [
    "Таким образом, меняется наша парадигма - раньше мы сцепляли генераторы друг с другом и последний из них \"вытаскивал\" данные. Теперь мы можем посылать данные в корутину из другой корутины или основной программы"
   ]
  },
  {
   "cell_type": "markdown",
   "metadata": {},
   "source": [
    "![coroutines](coroutines.png)"
   ]
  },
  {
   "cell_type": "markdown",
   "metadata": {},
   "source": [
    "Чтобы не заставлять себя каждый раз посылать \"холодному\" генератору None, можно написать декоратор"
   ]
  },
  {
   "cell_type": "code",
   "execution_count": 323,
   "metadata": {
    "collapsed": true
   },
   "outputs": [],
   "source": [
    "def coroutine(func):\n",
    "    def start(*args,**kwargs):\n",
    "        cr = func(*args,**kwargs)\n",
    "        cr.send(None)\n",
    "        return cr\n",
    "    return start"
   ]
  },
  {
   "cell_type": "markdown",
   "metadata": {},
   "source": [
    "В чем бонусы coroutine? С помощью них можно реализовывать конечные автоматы"
   ]
  },
  {
   "cell_type": "markdown",
   "metadata": {},
   "source": [
    "![automata](automata.png)"
   ]
  },
  {
   "cell_type": "markdown",
   "metadata": {},
   "source": [
    "А еще мы можем передавать наши значения сразу в несколько мест! Генераторы в таких случаях бы исчерпались"
   ]
  },
  {
   "cell_type": "markdown",
   "metadata": {},
   "source": [
    "![coroutines_branching](coroutines_branching.png)"
   ]
  },
  {
   "cell_type": "markdown",
   "metadata": {},
   "source": [
    "Напишем например, более совершенную версию программы, выдающей все белки"
   ]
  },
  {
   "cell_type": "code",
   "execution_count": 398,
   "metadata": {
    "collapsed": true
   },
   "outputs": [],
   "source": [
    "def transcribe(n, tr_table={\"A\" : \"A\", \"T\" : \"U\", \"G\" : \"G\", \"C\" : \"C\"}):\n",
    "    return tr_table[n]\n",
    "\n",
    "@coroutine\n",
    "def get_triplets_reader(receiver, ignore_first=0):\n",
    "    nucleotides = []\n",
    "    for i in range(ignore_first):\n",
    "        n = (yield)\n",
    "        #print (\"Triplet reader\", ignore_first, n)\n",
    "        \n",
    "    while True:\n",
    "        n = (yield)\n",
    "        #print (\"Triplet reader\", ignore_first, n)\n",
    "        nucleotides.append(n)\n",
    "        if len(nucleotides) == 3:\n",
    "            #print (\"sending\")\n",
    "            triplet = \"\".join(nucleotides)\n",
    "            nucleotides = []\n",
    "            receiver.send(triplet)\n",
    "            \n",
    "@coroutine\n",
    "def get_proteins_reader(protein_receiver, codons_receiver, name):\n",
    "    triplets = None\n",
    "    aminoacids = None\n",
    "    while True:\n",
    "        t = (yield)\n",
    "        \n",
    "        ac = CODON_TABLE[t]\n",
    "        #print (\"Protein reader\", name, t, ac)\n",
    "        if ac == \"M\" and triplets is None:\n",
    "            triplets = [t]\n",
    "            aminoacids = [ac]\n",
    "        elif ac == \"*\" and triplets is not None:\n",
    "            triplets.append(t)\n",
    "            protein_receiver.send(\"\".join(aminoacids))\n",
    "            codons_receiver.send(triplets)\n",
    "            triplets = None\n",
    "            aminoacids = None\n",
    "        elif triplets is not None:\n",
    "            triplets.append(t)\n",
    "            aminoacids.append(ac)\n",
    "            \n",
    "@coroutine\n",
    "def get_triplets_counter(cnt):\n",
    "    while True:\n",
    "        codons = (yield)\n",
    "        cnt.update(codons)\n",
    "\n",
    "@coroutine\n",
    "def get_proteins_writer(lst):\n",
    "    while True:\n",
    "        protein = (yield)\n",
    "        lst.append(protein)\n",
    "            \n",
    "\n",
    "def iter_seqs(in_file_path):\n",
    "    with open(in_file_path) as in_file:\n",
    "        in_file.readline()\n",
    "        letters = chain.from_iterable((line for line in in_file))\n",
    "        dna_nucleotides = filter(lambda x : x != \"\\n\", letters)\n",
    "        nucleotides = map(lambda x : transcribe(x.upper()), dna_nucleotides)\n",
    "       \n",
    "        codons_cnt = Counter()\n",
    "        triplets_counter = get_triplets_counter(codons_cnt)\n",
    "        proteins_lst = []\n",
    "        proteins_writer = get_proteins_writer(proteins_lst)\n",
    "        orfs_readers = [get_triplets_reader(get_proteins_reader(proteins_writer,\n",
    "                                                           triplets_counter, start_pos), \n",
    "                                       ignore_first=start_pos)\\\n",
    "                        for start_pos in range(3)]\n",
    "\n",
    "        for n in nucleotides:\n",
    "            for reader in orfs_readers:\n",
    "                reader.send(n)\n",
    "        \n",
    "    return proteins_lst, codons_cnt \n",
    "        "
   ]
  },
  {
   "cell_type": "code",
   "execution_count": 399,
   "metadata": {
    "collapsed": true
   },
   "outputs": [],
   "source": [
    "path_to_simple_fasta_file = \"example.fasta\"\n",
    "with open(path_to_simple_fasta_file, \"w\") as out_file:\n",
    "    out_file.write(\">example\\n\")\n",
    "    out_file.write(\"ATGTAAATGTAA\")"
   ]
  },
  {
   "cell_type": "code",
   "execution_count": 404,
   "metadata": {
    "collapsed": true
   },
   "outputs": [],
   "source": [
    "proteins_lst, codons_cnt = iter_seqs(path_to_fasta_file)"
   ]
  },
  {
   "cell_type": "code",
   "execution_count": 408,
   "metadata": {},
   "outputs": [
    {
     "data": {
      "text/plain": [
       "Counter({'AAA': 44178,\n",
       "         'AAC': 32709,\n",
       "         'AAG': 23143,\n",
       "         'AAU': 30160,\n",
       "         'ACA': 17638,\n",
       "         'ACC': 33525,\n",
       "         'ACG': 28215,\n",
       "         'ACU': 15999,\n",
       "         'AGA': 14140,\n",
       "         'AGC': 29603,\n",
       "         'AGG': 13613,\n",
       "         'AGU': 16749,\n",
       "         'AUA': 21081,\n",
       "         'AUC': 39387,\n",
       "         'AUG': 76237,\n",
       "         'AUU': 36398,\n",
       "         'CAA': 22849,\n",
       "         'CAC': 21484,\n",
       "         'CAG': 43663,\n",
       "         'CAU': 23838,\n",
       "         'CCA': 24276,\n",
       "         'CCC': 15446,\n",
       "         'CCG': 33307,\n",
       "         'CCU': 14393,\n",
       "         'CGA': 15273,\n",
       "         'CGC': 40163,\n",
       "         'CGG': 23805,\n",
       "         'CGU': 26240,\n",
       "         'CUA': 7489,\n",
       "         'CUC': 17231,\n",
       "         'CUG': 53366,\n",
       "         'CUU': 18611,\n",
       "         'GAA': 39022,\n",
       "         'GAC': 22113,\n",
       "         'GAG': 19893,\n",
       "         'GAU': 35561,\n",
       "         'GCA': 32215,\n",
       "         'GCC': 38774,\n",
       "         'GCG': 46843,\n",
       "         'GCU': 25462,\n",
       "         'GGA': 15646,\n",
       "         'GGC': 36781,\n",
       "         'GGG': 16321,\n",
       "         'GGU': 29316,\n",
       "         'GUA': 19901,\n",
       "         'GUC': 23643,\n",
       "         'GUG': 31416,\n",
       "         'GUU': 28896,\n",
       "         'UAA': 15573,\n",
       "         'UAC': 17833,\n",
       "         'UAG': 7048,\n",
       "         'UAU': 19577,\n",
       "         'UCA': 22774,\n",
       "         'UCC': 18734,\n",
       "         'UCG': 23086,\n",
       "         'UCU': 15969,\n",
       "         'UGA': 18311,\n",
       "         'UGC': 26329,\n",
       "         'UGG': 28080,\n",
       "         'UGU': 15088,\n",
       "         'UUA': 24116,\n",
       "         'UUC': 33123,\n",
       "         'UUG': 28908,\n",
       "         'UUU': 37874})"
      ]
     },
     "execution_count": 408,
     "metadata": {},
     "output_type": "execute_result"
    }
   ],
   "source": [
    "codons_cnt"
   ]
  },
  {
   "cell_type": "code",
   "execution_count": 407,
   "metadata": {},
   "outputs": [
    {
     "data": {
      "text/plain": [
       "['MSLCGLKKECLIAASELVTCRE',\n",
       " 'MKRISTTITTTITITTGNGAG',\n",
       " 'MQNVFCVLPIFWKAMPGRGRWPPSSLPPPKSPTTWWR',\n",
       " 'MLYPISAMPNVFLPNF',\n",
       " 'MSCMALVCWGSARIASTLR',\n",
       " 'MKKANWWCLDATVPTTLLRCWLPVYAPIVARFGRTLTGSIPATRVRCPMRGC',\n",
       " 'MKTNYRSRAFPI',\n",
       " 'MVCAPCVGSRRNSLPHWPAPISTLSPLLRDLLNAQSLSW',\n",
       " 'MMRPLACALLIRCCSIPIRLSKCL',\n",
       " 'MYMALIWKTGRKNWRKPKSRLISGA']"
      ]
     },
     "execution_count": 407,
     "metadata": {},
     "output_type": "execute_result"
    }
   ],
   "source": [
    "proteins_lst[0:10]"
   ]
  },
  {
   "cell_type": "code",
   "execution_count": 406,
   "metadata": {},
   "outputs": [
    {
     "data": {
      "text/plain": [
       "Counter({'AAA': 44178,\n",
       "         'AAC': 32709,\n",
       "         'AAG': 23143,\n",
       "         'AAU': 30160,\n",
       "         'ACA': 17638,\n",
       "         'ACC': 33525,\n",
       "         'ACG': 28215,\n",
       "         'ACU': 15999,\n",
       "         'AGA': 14140,\n",
       "         'AGC': 29603,\n",
       "         'AGG': 13613,\n",
       "         'AGU': 16749,\n",
       "         'AUA': 21081,\n",
       "         'AUC': 39387,\n",
       "         'AUG': 76237,\n",
       "         'AUU': 36398,\n",
       "         'CAA': 22849,\n",
       "         'CAC': 21484,\n",
       "         'CAG': 43663,\n",
       "         'CAU': 23838,\n",
       "         'CCA': 24276,\n",
       "         'CCC': 15446,\n",
       "         'CCG': 33307,\n",
       "         'CCU': 14393,\n",
       "         'CGA': 15273,\n",
       "         'CGC': 40163,\n",
       "         'CGG': 23805,\n",
       "         'CGU': 26240,\n",
       "         'CUA': 7489,\n",
       "         'CUC': 17231,\n",
       "         'CUG': 53366,\n",
       "         'CUU': 18611,\n",
       "         'GAA': 39022,\n",
       "         'GAC': 22113,\n",
       "         'GAG': 19893,\n",
       "         'GAU': 35561,\n",
       "         'GCA': 32215,\n",
       "         'GCC': 38774,\n",
       "         'GCG': 46843,\n",
       "         'GCU': 25462,\n",
       "         'GGA': 15646,\n",
       "         'GGC': 36781,\n",
       "         'GGG': 16321,\n",
       "         'GGU': 29316,\n",
       "         'GUA': 19901,\n",
       "         'GUC': 23643,\n",
       "         'GUG': 31416,\n",
       "         'GUU': 28896,\n",
       "         'UAA': 15573,\n",
       "         'UAC': 17833,\n",
       "         'UAG': 7048,\n",
       "         'UAU': 19577,\n",
       "         'UCA': 22774,\n",
       "         'UCC': 18734,\n",
       "         'UCG': 23086,\n",
       "         'UCU': 15969,\n",
       "         'UGA': 18311,\n",
       "         'UGC': 26329,\n",
       "         'UGG': 28080,\n",
       "         'UGU': 15088,\n",
       "         'UUA': 24116,\n",
       "         'UUC': 33123,\n",
       "         'UUG': 28908,\n",
       "         'UUU': 37874})"
      ]
     },
     "execution_count": 406,
     "metadata": {},
     "output_type": "execute_result"
    }
   ],
   "source": [
    "codons_cnt"
   ]
  },
  {
   "cell_type": "code",
   "execution_count": 403,
   "metadata": {},
   "outputs": [
    {
     "data": {
      "text/plain": [
       "{'AAA': 'K',\n",
       " 'AAC': 'N',\n",
       " 'AAG': 'K',\n",
       " 'AAU': 'N',\n",
       " 'ACA': 'T',\n",
       " 'ACC': 'T',\n",
       " 'ACG': 'T',\n",
       " 'ACU': 'T',\n",
       " 'AGA': 'R',\n",
       " 'AGC': 'S',\n",
       " 'AGG': 'R',\n",
       " 'AGU': 'S',\n",
       " 'AUA': 'I',\n",
       " 'AUC': 'I',\n",
       " 'AUG': 'M',\n",
       " 'AUU': 'I',\n",
       " 'CAA': 'Q',\n",
       " 'CAC': 'H',\n",
       " 'CAG': 'Q',\n",
       " 'CAU': 'H',\n",
       " 'CCA': 'P',\n",
       " 'CCC': 'P',\n",
       " 'CCG': 'P',\n",
       " 'CCU': 'P',\n",
       " 'CGA': 'R',\n",
       " 'CGC': 'R',\n",
       " 'CGG': 'R',\n",
       " 'CGU': 'R',\n",
       " 'CUA': 'L',\n",
       " 'CUC': 'L',\n",
       " 'CUG': 'L',\n",
       " 'CUU': 'L',\n",
       " 'GAA': 'E',\n",
       " 'GAC': 'D',\n",
       " 'GAG': 'E',\n",
       " 'GAU': 'D',\n",
       " 'GCA': 'A',\n",
       " 'GCC': 'A',\n",
       " 'GCG': 'A',\n",
       " 'GCU': 'A',\n",
       " 'GGA': 'G',\n",
       " 'GGC': 'G',\n",
       " 'GGG': 'G',\n",
       " 'GGU': 'G',\n",
       " 'GUA': 'V',\n",
       " 'GUC': 'V',\n",
       " 'GUG': 'V',\n",
       " 'GUU': 'V',\n",
       " 'UAA': '*',\n",
       " 'UAC': 'Y',\n",
       " 'UAG': '*',\n",
       " 'UAU': 'Y',\n",
       " 'UCA': 'S',\n",
       " 'UCC': 'S',\n",
       " 'UCG': 'S',\n",
       " 'UCU': 'S',\n",
       " 'UGA': '*',\n",
       " 'UGC': 'C',\n",
       " 'UGG': 'W',\n",
       " 'UGU': 'C',\n",
       " 'UUA': 'L',\n",
       " 'UUC': 'F',\n",
       " 'UUG': 'L',\n",
       " 'UUU': 'F'}"
      ]
     },
     "execution_count": 403,
     "metadata": {},
     "output_type": "execute_result"
    }
   ],
   "source": [
    "CODON_TABLE"
   ]
  },
  {
   "cell_type": "markdown",
   "metadata": {},
   "source": [
    "Если вам интересно узнать больше о корутинах и Python - отличный сайт http://www.dabeaz.com/tutorials.html.\n",
    "Про корутины я брал с курса \"A Curious Course on Coroutines and Concurrency\""
   ]
  }
 ],
 "metadata": {
  "kernelspec": {
   "display_name": "Python 3",
   "language": "python",
   "name": "python3"
  },
  "language_info": {
   "codemirror_mode": {
    "name": "ipython",
    "version": 3
   },
   "file_extension": ".py",
   "mimetype": "text/x-python",
   "name": "python",
   "nbconvert_exporter": "python",
   "pygments_lexer": "ipython3",
   "version": "3.6.5"
  }
 },
 "nbformat": 4,
 "nbformat_minor": 2
}
